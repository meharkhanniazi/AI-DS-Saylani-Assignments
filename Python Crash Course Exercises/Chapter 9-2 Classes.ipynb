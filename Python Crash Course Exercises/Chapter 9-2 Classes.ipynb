{
 "cells": [
  {
   "cell_type": "markdown",
   "metadata": {},
   "source": [
    "# 9-10."
   ]
  },
  {
   "cell_type": "markdown",
   "metadata": {},
   "source": [
    "Imported Restaurant: Using your latest Restaurant class, store it in a module. Make a separate file that imports Restaurant. Make a Restaurant instance, and call one of Restaurant’s methods to show that the import statement is working properly."
   ]
  },
  {
   "cell_type": "code",
   "execution_count": 90,
   "metadata": {},
   "outputs": [],
   "source": [
    "from restaurant import *\n",
    "import classes\n",
    "import user, admin_privilege\n",
    "from random import randint, choice"
   ]
  },
  {
   "cell_type": "code",
   "execution_count": 23,
   "metadata": {},
   "outputs": [],
   "source": [
    "newRestaurant = Restaurant(\"Al-Makka Restaurant\", \"Pakistani\")"
   ]
  },
  {
   "cell_type": "code",
   "execution_count": 24,
   "metadata": {},
   "outputs": [
    {
     "name": "stdout",
     "output_type": "stream",
     "text": [
      "Restaurant Name:Al-Makka Restaurant\n",
      "Cuisine Type:\tPakistani\n"
     ]
    }
   ],
   "source": [
    "newRestaurant.describe_restaurant()"
   ]
  },
  {
   "cell_type": "markdown",
   "metadata": {},
   "source": [
    "# 9-11."
   ]
  },
  {
   "cell_type": "markdown",
   "metadata": {},
   "source": [
    "Imported Admin: Start with your work from Exercise 9-8 (page 173).\n",
    "Store the classes User, Privileges, and Admin in one module. Create a separate\n",
    "file, make an Admin instance, and call show_privileges() to show that\n",
    "everything is working correctly."
   ]
  },
  {
   "cell_type": "code",
   "execution_count": 29,
   "metadata": {},
   "outputs": [],
   "source": [
    "newAdmin = classes.Admin([\"can add post\", \"can delete post\", \"can ban user\"])"
   ]
  },
  {
   "cell_type": "code",
   "execution_count": 30,
   "metadata": {},
   "outputs": [
    {
     "name": "stdout",
     "output_type": "stream",
     "text": [
      "Admin have following privileges\n",
      "can add post\n",
      "can delete post\n",
      "can ban user\n"
     ]
    }
   ],
   "source": [
    "newAdmin.privileges.show_privileges()"
   ]
  },
  {
   "cell_type": "markdown",
   "metadata": {},
   "source": [
    "# 9-12."
   ]
  },
  {
   "cell_type": "markdown",
   "metadata": {},
   "source": [
    "Multiple Modules: Store the User class in one module, and store the\n",
    "Privileges and Admin classes in a separate module. In a separate file, create\n",
    "an Admin instance and call show_privileges() to show that everything is still\n",
    "working correctly."
   ]
  },
  {
   "cell_type": "code",
   "execution_count": 37,
   "metadata": {},
   "outputs": [],
   "source": [
    "newAdmin2 = classes.Admin([\"can add post\", \"can delete post\", \"can ban user\"])"
   ]
  },
  {
   "cell_type": "code",
   "execution_count": 38,
   "metadata": {},
   "outputs": [
    {
     "name": "stdout",
     "output_type": "stream",
     "text": [
      "Admin have following privileges\n",
      "can add post\n",
      "can delete post\n",
      "can ban user\n"
     ]
    }
   ],
   "source": [
    "newAdmin2.privileges.show_privileges()"
   ]
  },
  {
   "cell_type": "markdown",
   "metadata": {},
   "source": [
    "# 9-13."
   ]
  },
  {
   "cell_type": "markdown",
   "metadata": {},
   "source": [
    "Dice: Make a class Die with one attribute called sides, which has a default\n",
    "value of 6. Write a method called roll_die() that prints a random number\n",
    "between 1 and the number of sides the die has. Make a 6-sided die and roll it\n",
    "10 times.  \n",
    "Make a 10-sided die and a 20-sided die. Roll each die 10 times."
   ]
  },
  {
   "cell_type": "code",
   "execution_count": 72,
   "metadata": {},
   "outputs": [],
   "source": [
    "class Die():\n",
    "    def __init__(self, sides=6):\n",
    "        self.sides = sides\n",
    "        \n",
    "    def roll_die(self):\n",
    "        print(randint(1,self.sides))"
   ]
  },
  {
   "cell_type": "code",
   "execution_count": 73,
   "metadata": {},
   "outputs": [],
   "source": [
    "my_die = Die()"
   ]
  },
  {
   "cell_type": "code",
   "execution_count": 74,
   "metadata": {},
   "outputs": [
    {
     "name": "stdout",
     "output_type": "stream",
     "text": [
      "3\n"
     ]
    }
   ],
   "source": [
    "my_die.roll_die()"
   ]
  },
  {
   "cell_type": "code",
   "execution_count": 75,
   "metadata": {},
   "outputs": [
    {
     "name": "stdout",
     "output_type": "stream",
     "text": [
      "2\n"
     ]
    }
   ],
   "source": [
    "my_die.roll_die()"
   ]
  },
  {
   "cell_type": "code",
   "execution_count": 76,
   "metadata": {},
   "outputs": [
    {
     "name": "stdout",
     "output_type": "stream",
     "text": [
      "1\n"
     ]
    }
   ],
   "source": [
    "my_die.roll_die()"
   ]
  },
  {
   "cell_type": "code",
   "execution_count": 77,
   "metadata": {},
   "outputs": [
    {
     "name": "stdout",
     "output_type": "stream",
     "text": [
      "3\n"
     ]
    }
   ],
   "source": [
    "my_die.roll_die()"
   ]
  },
  {
   "cell_type": "code",
   "execution_count": 78,
   "metadata": {},
   "outputs": [
    {
     "name": "stdout",
     "output_type": "stream",
     "text": [
      "2\n"
     ]
    }
   ],
   "source": [
    "my_die.roll_die()"
   ]
  },
  {
   "cell_type": "code",
   "execution_count": 79,
   "metadata": {},
   "outputs": [
    {
     "name": "stdout",
     "output_type": "stream",
     "text": [
      "4\n"
     ]
    }
   ],
   "source": [
    "my_die.roll_die()"
   ]
  },
  {
   "cell_type": "code",
   "execution_count": 80,
   "metadata": {},
   "outputs": [
    {
     "name": "stdout",
     "output_type": "stream",
     "text": [
      "6\n"
     ]
    }
   ],
   "source": [
    "my_die.roll_die()"
   ]
  },
  {
   "cell_type": "code",
   "execution_count": 81,
   "metadata": {},
   "outputs": [
    {
     "name": "stdout",
     "output_type": "stream",
     "text": [
      "2\n"
     ]
    }
   ],
   "source": [
    "my_die.roll_die()"
   ]
  },
  {
   "cell_type": "code",
   "execution_count": 82,
   "metadata": {},
   "outputs": [
    {
     "name": "stdout",
     "output_type": "stream",
     "text": [
      "2\n"
     ]
    }
   ],
   "source": [
    "my_die.roll_die()"
   ]
  },
  {
   "cell_type": "code",
   "execution_count": 83,
   "metadata": {},
   "outputs": [
    {
     "name": "stdout",
     "output_type": "stream",
     "text": [
      "5\n"
     ]
    }
   ],
   "source": [
    "my_die.roll_die()"
   ]
  },
  {
   "cell_type": "code",
   "execution_count": 84,
   "metadata": {},
   "outputs": [],
   "source": [
    "ten_sided_die = Die(10)"
   ]
  },
  {
   "cell_type": "code",
   "execution_count": 85,
   "metadata": {},
   "outputs": [
    {
     "name": "stdout",
     "output_type": "stream",
     "text": [
      "5\n",
      "2\n",
      "4\n",
      "9\n",
      "3\n",
      "1\n",
      "1\n",
      "2\n",
      "4\n",
      "4\n"
     ]
    }
   ],
   "source": [
    "ten_sided_die.roll_die()\n",
    "ten_sided_die.roll_die()\n",
    "ten_sided_die.roll_die()\n",
    "ten_sided_die.roll_die()\n",
    "ten_sided_die.roll_die()\n",
    "ten_sided_die.roll_die()\n",
    "ten_sided_die.roll_die()\n",
    "ten_sided_die.roll_die()\n",
    "ten_sided_die.roll_die()\n",
    "ten_sided_die.roll_die()"
   ]
  },
  {
   "cell_type": "code",
   "execution_count": 86,
   "metadata": {},
   "outputs": [],
   "source": [
    "twenty_sided_die = Die(20)"
   ]
  },
  {
   "cell_type": "code",
   "execution_count": 87,
   "metadata": {},
   "outputs": [
    {
     "name": "stdout",
     "output_type": "stream",
     "text": [
      "16\n",
      "7\n",
      "14\n",
      "17\n",
      "14\n",
      "17\n",
      "15\n",
      "12\n",
      "1\n",
      "7\n"
     ]
    }
   ],
   "source": [
    "twenty_sided_die.roll_die()\n",
    "twenty_sided_die.roll_die()\n",
    "twenty_sided_die.roll_die()\n",
    "twenty_sided_die.roll_die()\n",
    "twenty_sided_die.roll_die()\n",
    "twenty_sided_die.roll_die()\n",
    "twenty_sided_die.roll_die()\n",
    "twenty_sided_die.roll_die()\n",
    "twenty_sided_die.roll_die()\n",
    "twenty_sided_die.roll_die()"
   ]
  },
  {
   "cell_type": "markdown",
   "metadata": {},
   "source": [
    "# 9-14."
   ]
  },
  {
   "cell_type": "markdown",
   "metadata": {},
   "source": [
    "Lottery: Make a list or tuple containing a series of 10 numbers and\n",
    "five letters. Randomly select four numbers or letters from the list and print a\n",
    "message saying that any ticket matching these four numbers or letters wins a\n",
    "prize."
   ]
  },
  {
   "cell_type": "code",
   "execution_count": 103,
   "metadata": {},
   "outputs": [
    {
     "name": "stdout",
     "output_type": "stream",
     "text": [
      "Any ticket matching these four numbers or letters wins a prize.\n",
      "u\n",
      "6\n",
      "66\n",
      "54\n"
     ]
    }
   ],
   "source": [
    "randomList = [1,98,54,66,4,2,6,3,78,66,'a','p','w','s','u']\n",
    "print(\"Any ticket matching these four numbers or letters wins a prize.\")\n",
    "temp_list = []\n",
    "for item in range(4):\n",
    "    random_selection = choice(randomList)\n",
    "    if (random_selection in temp_list) == True:\n",
    "        random_selection = choice(randomList)\n",
    "        temp_list.append(random_selection)\n",
    "        print(random_selection)\n",
    "    else:\n",
    "        temp_list.append(random_selection)\n",
    "        print(random_selection)"
   ]
  },
  {
   "cell_type": "markdown",
   "metadata": {},
   "source": [
    "# 9-15."
   ]
  },
  {
   "cell_type": "markdown",
   "metadata": {},
   "source": [
    "Lottery Analysis: You can use a loop to see how hard it might be to win\n",
    "the kind of lottery you just modeled. Make a list or tuple called my_ticket.\n",
    "Write a loop that keeps pulling numbers until your ticket wins. Print a message\n",
    "reporting how many times the loop had to run to give you a winning ticket."
   ]
  },
  {
   "cell_type": "code",
   "execution_count": 108,
   "metadata": {},
   "outputs": [
    {
     "name": "stdout",
     "output_type": "stream",
     "text": [
      "The loop ran 11 times.\n"
     ]
    }
   ],
   "source": [
    "my_ticket = [1,98,54,66,4,2,6,3,78,66,'a','p','w','s','u']\n",
    "noOfLoops = 0\n",
    "for num in my_ticket:\n",
    "    if num == 'a':\n",
    "        noOfLoops += 1\n",
    "        break\n",
    "    else:\n",
    "        noOfLoops += 1\n",
    "print(f\"The loop ran {noOfLoops} times.\")"
   ]
  },
  {
   "cell_type": "markdown",
   "metadata": {},
   "source": [
    "# 9-16."
   ]
  },
  {
   "cell_type": "markdown",
   "metadata": {},
   "source": [
    "Python Module of the Week: One excellent resource for exploring the\n",
    "Python standard library is a site called Python Module of the Week. Go to\n",
    "https://pymotw.com/ and look at the table of contents. Find a module that\n",
    "looks interesting to you and read about it, perhaps starting with the random\n",
    "module."
   ]
  },
  {
   "cell_type": "code",
   "execution_count": 109,
   "metadata": {},
   "outputs": [],
   "source": [
    "#Done"
   ]
  },
  {
   "cell_type": "code",
   "execution_count": null,
   "metadata": {},
   "outputs": [],
   "source": []
  }
 ],
 "metadata": {
  "kernelspec": {
   "display_name": "Python 3",
   "language": "python",
   "name": "python3"
  },
  "language_info": {
   "codemirror_mode": {
    "name": "ipython",
    "version": 3
   },
   "file_extension": ".py",
   "mimetype": "text/x-python",
   "name": "python",
   "nbconvert_exporter": "python",
   "pygments_lexer": "ipython3",
   "version": "3.8.5"
  }
 },
 "nbformat": 4,
 "nbformat_minor": 4
}
