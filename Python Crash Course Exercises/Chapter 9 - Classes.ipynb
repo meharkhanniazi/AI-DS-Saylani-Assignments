{
 "cells": [
  {
   "cell_type": "markdown",
   "metadata": {},
   "source": [
    "# Chapter 9 - Classes"
   ]
  },
  {
   "cell_type": "markdown",
   "metadata": {},
   "source": [
    "# 9-1."
   ]
  },
  {
   "cell_type": "markdown",
   "metadata": {},
   "source": [
    "##### Restaurant: Make a class called Restaurant. The __init__() method for\n",
    "Restaurant should store two attributes: a restaurant_name and a cuisine_type.\n",
    "Make a method called describe_restaurant() that prints these two pieces of\n",
    "information, and a method called open_restaurant() that prints a message indicating\n",
    "that the restaurant is open.  \n",
    "Make an instance called restaurant from your class. Print the two attributes\n",
    "individually, and then call both methods."
   ]
  },
  {
   "cell_type": "code",
   "execution_count": 1,
   "metadata": {},
   "outputs": [],
   "source": [
    "class Restaurant():\n",
    "    def __init__(self, restaurant_name, cuisine_type):\n",
    "        self.restaurant_name = restaurant_name\n",
    "        self.cuisine_type = cuisine_type\n",
    "    \n",
    "    def describe_restaurant(self):\n",
    "        '''\n",
    "        This function displays name and cuisin type of \n",
    "        restaurant. It takes no argument.\n",
    "        '''\n",
    "        print(f\"Restaurant Name:{self.restaurant_name}\")\n",
    "        print(f\"Cuisine Type:\\t{self.cuisine_type}\")\n",
    "        \n",
    "    def open_restaurant(self):\n",
    "        '''\n",
    "        This function displays restaurant's opening status.\n",
    "        It takes no argument.\n",
    "        '''\n",
    "        print(f\"{self.restaurant_name} is open now.\")"
   ]
  },
  {
   "cell_type": "code",
   "execution_count": 2,
   "metadata": {},
   "outputs": [],
   "source": [
    "restaurant = Restaurant(\"Al-Tayyab Restaurant\", \"Chinese\")"
   ]
  },
  {
   "cell_type": "code",
   "execution_count": 3,
   "metadata": {},
   "outputs": [
    {
     "name": "stdout",
     "output_type": "stream",
     "text": [
      "Restaurant Name:Al-Tayyab Restaurant\n",
      "Cuisine Type:\tChinese\n"
     ]
    }
   ],
   "source": [
    "restaurant.describe_restaurant()"
   ]
  },
  {
   "cell_type": "code",
   "execution_count": 4,
   "metadata": {},
   "outputs": [
    {
     "name": "stdout",
     "output_type": "stream",
     "text": [
      "Al-Tayyab Restaurant is open now.\n"
     ]
    }
   ],
   "source": [
    "restaurant.open_restaurant()"
   ]
  },
  {
   "cell_type": "code",
   "execution_count": 5,
   "metadata": {},
   "outputs": [
    {
     "data": {
      "text/plain": [
       "'Al-Tayyab Restaurant'"
      ]
     },
     "execution_count": 5,
     "metadata": {},
     "output_type": "execute_result"
    }
   ],
   "source": [
    "restaurant.restaurant_name"
   ]
  },
  {
   "cell_type": "code",
   "execution_count": 6,
   "metadata": {},
   "outputs": [
    {
     "data": {
      "text/plain": [
       "'Chinese'"
      ]
     },
     "execution_count": 6,
     "metadata": {},
     "output_type": "execute_result"
    }
   ],
   "source": [
    "restaurant.cuisine_type"
   ]
  },
  {
   "cell_type": "markdown",
   "metadata": {},
   "source": [
    "# 9-2."
   ]
  },
  {
   "cell_type": "markdown",
   "metadata": {},
   "source": [
    "Three Restaurants: Start with your class from Exercise 9-1. Create three\n",
    "different instances from the class, and call describe_restaurant() for each\n",
    "instance."
   ]
  },
  {
   "cell_type": "code",
   "execution_count": 7,
   "metadata": {},
   "outputs": [],
   "source": [
    "restaurant2 = Restaurant(\"Al-Makka Restaurant\", \"Pakistani\")\n",
    "restaurant3 = Restaurant(\"Darbar Restaurant\", \"Russian\")\n",
    "restaurant4 = Restaurant(\"Hyderabadi Restaurant\", \"Indian\")"
   ]
  },
  {
   "cell_type": "code",
   "execution_count": 8,
   "metadata": {},
   "outputs": [
    {
     "name": "stdout",
     "output_type": "stream",
     "text": [
      "Restaurant Name:Al-Makka Restaurant\n",
      "Cuisine Type:\tPakistani\n"
     ]
    }
   ],
   "source": [
    "restaurant2.describe_restaurant()"
   ]
  },
  {
   "cell_type": "code",
   "execution_count": 9,
   "metadata": {},
   "outputs": [
    {
     "name": "stdout",
     "output_type": "stream",
     "text": [
      "Restaurant Name:Darbar Restaurant\n",
      "Cuisine Type:\tRussian\n"
     ]
    }
   ],
   "source": [
    "restaurant3.describe_restaurant()"
   ]
  },
  {
   "cell_type": "code",
   "execution_count": 10,
   "metadata": {},
   "outputs": [
    {
     "name": "stdout",
     "output_type": "stream",
     "text": [
      "Restaurant Name:Hyderabadi Restaurant\n",
      "Cuisine Type:\tIndian\n"
     ]
    }
   ],
   "source": [
    "restaurant4.describe_restaurant()"
   ]
  },
  {
   "cell_type": "markdown",
   "metadata": {},
   "source": [
    "# 9-3."
   ]
  },
  {
   "cell_type": "markdown",
   "metadata": {},
   "source": [
    "Users: Make a class called User. Create two attributes called first_name\n",
    "and last_name, and then create several other attributes that are typically stored\n",
    "in a user profile. Make a method called describe_user() that prints a summary\n",
    "of the user’s information. Make another method called greet_user() that prints\n",
    "a personalized greeting to the user.  \n",
    "Create several instances representing different users, and call both methods\n",
    "for each user."
   ]
  },
  {
   "cell_type": "code",
   "execution_count": 11,
   "metadata": {},
   "outputs": [],
   "source": [
    "class User():\n",
    "    def __init__(self, first_name, last_name, age, address):\n",
    "        self.first_name = first_name\n",
    "        self.last_name = last_name\n",
    "        self.age = age\n",
    "        self.address = address\n",
    "    \n",
    "    def describe_user(self):\n",
    "        '''\n",
    "        This function prints summary of the user's information.\n",
    "        It takes no argument.\n",
    "        '''\n",
    "        print(f\"First Name:\\t{self.first_name}\")\n",
    "        print(f\"Last Name:\\t{self.last_name}\")\n",
    "        print(f\"Age:\\t\\t{self.age}\")\n",
    "        print(f\"Address:\\t{self.address}\")\n",
    "        \n",
    "    def greet_user(self):\n",
    "        '''\n",
    "        This function greets the user. It takes no argument.\n",
    "        '''\n",
    "        print((f\"Hello {self.first_name} {self.last_name}, I hope\"\n",
    "                \" you are doing well!\"))"
   ]
  },
  {
   "cell_type": "code",
   "execution_count": 12,
   "metadata": {},
   "outputs": [],
   "source": [
    "user1 = User(\"Ali\", \"Ahmed\", 24, \"Karachi, Pakistan\")\n",
    "user2 = User(\"Usama\", \"Khan\", 19, \"Peshawar, Pakistan\")\n",
    "user3 = User(\"Sami\", \"Khan\", 15, \"Quetta, Pakistan\")"
   ]
  },
  {
   "cell_type": "code",
   "execution_count": 13,
   "metadata": {},
   "outputs": [
    {
     "name": "stdout",
     "output_type": "stream",
     "text": [
      "First Name:\tAli\n",
      "Last Name:\tAhmed\n",
      "Age:\t\t24\n",
      "Address:\tKarachi, Pakistan\n"
     ]
    }
   ],
   "source": [
    "user1.describe_user()"
   ]
  },
  {
   "cell_type": "code",
   "execution_count": 14,
   "metadata": {},
   "outputs": [
    {
     "name": "stdout",
     "output_type": "stream",
     "text": [
      "Hello Ali Ahmed, I hope you are doing well!\n"
     ]
    }
   ],
   "source": [
    "user1.greet_user()"
   ]
  },
  {
   "cell_type": "code",
   "execution_count": 15,
   "metadata": {},
   "outputs": [
    {
     "name": "stdout",
     "output_type": "stream",
     "text": [
      "First Name:\tUsama\n",
      "Last Name:\tKhan\n",
      "Age:\t\t19\n",
      "Address:\tPeshawar, Pakistan\n"
     ]
    }
   ],
   "source": [
    "user2.describe_user()"
   ]
  },
  {
   "cell_type": "code",
   "execution_count": 16,
   "metadata": {},
   "outputs": [
    {
     "name": "stdout",
     "output_type": "stream",
     "text": [
      "Hello Usama Khan, I hope you are doing well!\n"
     ]
    }
   ],
   "source": [
    "user2.greet_user()"
   ]
  },
  {
   "cell_type": "code",
   "execution_count": 17,
   "metadata": {},
   "outputs": [
    {
     "name": "stdout",
     "output_type": "stream",
     "text": [
      "First Name:\tSami\n",
      "Last Name:\tKhan\n",
      "Age:\t\t15\n",
      "Address:\tQuetta, Pakistan\n"
     ]
    }
   ],
   "source": [
    "user3.describe_user()"
   ]
  },
  {
   "cell_type": "code",
   "execution_count": 18,
   "metadata": {},
   "outputs": [
    {
     "name": "stdout",
     "output_type": "stream",
     "text": [
      "Hello Sami Khan, I hope you are doing well!\n"
     ]
    }
   ],
   "source": [
    "user3.greet_user()"
   ]
  },
  {
   "cell_type": "markdown",
   "metadata": {},
   "source": [
    "# 9-4."
   ]
  },
  {
   "cell_type": "markdown",
   "metadata": {},
   "source": [
    "Number Served: Start with your program from Exercise 9-1 (page 162).\n",
    "Add an attribute called number_served with a default value of 0. Create an\n",
    "instance called restaurant from this class. Print the number of customers the\n",
    "restaurant has served, and then change this value and print it again.  \n",
    "Add a method called set_number_served() that lets you set the number\n",
    "of customers that have been served. Call this method with a new number and\n",
    "print the value again.  \n",
    "Add a method called increment_number_served() that lets you increment\n",
    "the number of customers who’ve been served. Call this method with any number\n",
    "you like that could represent how many customers were served in, say, a\n",
    "day of business."
   ]
  },
  {
   "cell_type": "code",
   "execution_count": 19,
   "metadata": {},
   "outputs": [],
   "source": [
    "class Restaurant():\n",
    "    def __init__(self, restaurant_name, cuisine_type):\n",
    "        self.restaurant_name = restaurant_name\n",
    "        self.cuisine_type = cuisine_type\n",
    "        self.number_served = 0\n",
    "    \n",
    "    def describe_restaurant(self):\n",
    "        '''\n",
    "        This function displays name and cuisin type of \n",
    "        restaurant. It takes no argument.\n",
    "        '''\n",
    "        print(f\"Restaurant Name:{self.restaurant_name}\")\n",
    "        print(f\"Cuisine Type:\\t{self.cuisine_type}\")\n",
    "        \n",
    "    def open_restaurant(self):\n",
    "        '''\n",
    "        This function displays restaurant's opening status.\n",
    "        It takes no argument.\n",
    "        '''\n",
    "        print(f\"{self.restaurant_name} is open now.\")\n",
    "        \n",
    "    def set_number_served(self, number_served):\n",
    "        '''\n",
    "        This function set number_served by the restaurant. It takes one argument.\n",
    "        '''\n",
    "        self.number_served = number_served\n",
    "        \n",
    "    def increment_number_served(self, number_served):\n",
    "        '''\n",
    "        This function increments the number_served by the number you put in\n",
    "        argument. It takes one argument i.e number_served.\n",
    "        '''\n",
    "        self.number_served += number_served"
   ]
  },
  {
   "cell_type": "code",
   "execution_count": 20,
   "metadata": {},
   "outputs": [],
   "source": [
    "\n",
    "restaurant = Restaurant(\"Zamzama Restaurant\", \"Pakistani\")"
   ]
  },
  {
   "cell_type": "code",
   "execution_count": 21,
   "metadata": {},
   "outputs": [],
   "source": [
    "restaurant.number_served = 45"
   ]
  },
  {
   "cell_type": "code",
   "execution_count": 22,
   "metadata": {},
   "outputs": [
    {
     "data": {
      "text/plain": [
       "45"
      ]
     },
     "execution_count": 22,
     "metadata": {},
     "output_type": "execute_result"
    }
   ],
   "source": [
    "restaurant.number_served"
   ]
  },
  {
   "cell_type": "code",
   "execution_count": 23,
   "metadata": {},
   "outputs": [],
   "source": [
    "restaurant.set_number_served(56)"
   ]
  },
  {
   "cell_type": "code",
   "execution_count": 24,
   "metadata": {},
   "outputs": [
    {
     "data": {
      "text/plain": [
       "56"
      ]
     },
     "execution_count": 24,
     "metadata": {},
     "output_type": "execute_result"
    }
   ],
   "source": [
    "restaurant.number_served"
   ]
  },
  {
   "cell_type": "code",
   "execution_count": 25,
   "metadata": {},
   "outputs": [],
   "source": [
    "restaurant.increment_number_served(40)"
   ]
  },
  {
   "cell_type": "code",
   "execution_count": 26,
   "metadata": {},
   "outputs": [
    {
     "data": {
      "text/plain": [
       "96"
      ]
     },
     "execution_count": 26,
     "metadata": {},
     "output_type": "execute_result"
    }
   ],
   "source": [
    "restaurant.number_served"
   ]
  },
  {
   "cell_type": "markdown",
   "metadata": {},
   "source": [
    "# 9-5."
   ]
  },
  {
   "cell_type": "markdown",
   "metadata": {},
   "source": [
    "Login Attempts: Add an attribute called login_attempts to your User\n",
    "class from Exercise 9-3 (page 162). Write a method called increment_login\n",
    "_attempts() that increments the value of login_attempts by 1. Write another\n",
    "method called reset_login_attempts() that resets the value of login_attempts\n",
    "to 0.  \n",
    "Make an instance of the User class and call increment_login_attempts()\n",
    "several times. Print the value of login_attempts to make sure it was incremented\n",
    "properly, and then call reset_login_attempts(). Print login_attempts again to\n",
    "make sure it was reset to 0."
   ]
  },
  {
   "cell_type": "code",
   "execution_count": 27,
   "metadata": {},
   "outputs": [],
   "source": [
    "class User():\n",
    "    def __init__(self, first_name, last_name, age, address):\n",
    "        self.first_name = first_name\n",
    "        self.last_name = last_name\n",
    "        self.age = age\n",
    "        self.address = address\n",
    "        self.login_attempts = 0\n",
    "    \n",
    "    def describe_user(self):\n",
    "        '''\n",
    "        This function prints summary of the user's information.\n",
    "        It takes no argument.\n",
    "        '''\n",
    "        print(f\"First Name:\\t{self.first_name}\")\n",
    "        print(f\"Last Name:\\t{self.last_name}\")\n",
    "        print(f\"Age:\\t\\t{self.age}\")\n",
    "        print(f\"Address:\\t{self.address}\")\n",
    "        \n",
    "    def greet_user(self):\n",
    "        '''\n",
    "        This function greets the user. It takes no argument.\n",
    "        '''\n",
    "        print((f\"Hello {self.first_name} {self.last_name}, I hope\"\n",
    "                \" you are doing well!\"))\n",
    "        \n",
    "    def increment_login_attempts(self):\n",
    "        '''\n",
    "        This function increments login_attempts by 1. It takes no argument.\n",
    "        '''\n",
    "        self.login_attempts += 1\n",
    "        \n",
    "    def reset_login_attempts(self):\n",
    "        '''\n",
    "        This function resets the login_attempts. It takes no argument.\n",
    "        '''\n",
    "        self.login_attempts = 0"
   ]
  },
  {
   "cell_type": "code",
   "execution_count": 28,
   "metadata": {},
   "outputs": [],
   "source": [
    "newUser = User(\"Aslam\", \"Taimoor\", 41, \"Karachi, Pakistan\")"
   ]
  },
  {
   "cell_type": "code",
   "execution_count": 29,
   "metadata": {},
   "outputs": [],
   "source": [
    "newUser.increment_login_attempts()\n",
    "newUser.increment_login_attempts()\n",
    "newUser.increment_login_attempts()\n",
    "newUser.increment_login_attempts()\n",
    "newUser.increment_login_attempts()\n",
    "newUser.increment_login_attempts()"
   ]
  },
  {
   "cell_type": "code",
   "execution_count": 30,
   "metadata": {},
   "outputs": [
    {
     "data": {
      "text/plain": [
       "6"
      ]
     },
     "execution_count": 30,
     "metadata": {},
     "output_type": "execute_result"
    }
   ],
   "source": [
    "newUser.login_attempts"
   ]
  },
  {
   "cell_type": "code",
   "execution_count": 31,
   "metadata": {},
   "outputs": [],
   "source": [
    "newUser.reset_login_attempts()"
   ]
  },
  {
   "cell_type": "code",
   "execution_count": 32,
   "metadata": {},
   "outputs": [
    {
     "data": {
      "text/plain": [
       "0"
      ]
     },
     "execution_count": 32,
     "metadata": {},
     "output_type": "execute_result"
    }
   ],
   "source": [
    "newUser.login_attempts"
   ]
  },
  {
   "cell_type": "markdown",
   "metadata": {},
   "source": [
    "# 9-6."
   ]
  },
  {
   "cell_type": "markdown",
   "metadata": {},
   "source": [
    "Ice Cream Stand: An ice cream stand is a specific kind of restaurant. Write\n",
    "a class called IceCreamStand that inherits from the Restaurant class you wrote\n",
    "in Exercise 9-1 (page 162) or Exercise 9-4 (page 167). Either version of\n",
    "the class will work; just pick the one you like better. Add an attribute called\n",
    "flavors that stores a list of ice cream flavors. Write a method that displays\n",
    "these flavors. Create an instance of IceCreamStand, and call this method."
   ]
  },
  {
   "cell_type": "code",
   "execution_count": 33,
   "metadata": {},
   "outputs": [],
   "source": [
    "class IceCreamStand(Restaurant):\n",
    "    def __init__(self, flavors):\n",
    "        self.flavors = flavors\n",
    "        \n",
    "    def display_flavors(self):\n",
    "        '''\n",
    "        This function displays list of flavors. It takes no argument.\n",
    "        '''\n",
    "        print(self.flavors)"
   ]
  },
  {
   "cell_type": "code",
   "execution_count": 34,
   "metadata": {},
   "outputs": [],
   "source": [
    "iceCreamStand1 = IceCreamStand([\"Vanila\", \"Chocolate\", \"Pineapple\", \"Cherry\"])"
   ]
  },
  {
   "cell_type": "code",
   "execution_count": 35,
   "metadata": {},
   "outputs": [
    {
     "name": "stdout",
     "output_type": "stream",
     "text": [
      "['Vanila', 'Chocolate', 'Pineapple', 'Cherry']\n"
     ]
    }
   ],
   "source": [
    "iceCreamStand1.display_flavors()"
   ]
  },
  {
   "cell_type": "markdown",
   "metadata": {},
   "source": [
    "# 9-7."
   ]
  },
  {
   "cell_type": "markdown",
   "metadata": {},
   "source": [
    "Admin: An administrator is a special kind of user. Write a class called\n",
    "Admin that inherits from the User class you wrote in Exercise 9-3 (page 162)\n",
    "or Exercise 9-5 (page 167). Add an attribute, privileges, that stores a list\n",
    "of strings like \"can add post\", \"can delete post\", \"can ban user\", and so on.\n",
    "Write a method called show_privileges() that lists the administrator’s set of\n",
    "privileges. Create an instance of Admin, and call your method."
   ]
  },
  {
   "cell_type": "code",
   "execution_count": 46,
   "metadata": {},
   "outputs": [],
   "source": [
    "class Admin(User):\n",
    "    def __init__(self, privileges):\n",
    "        self.privileges = Privileges(privileges)"
   ]
  },
  {
   "cell_type": "code",
   "execution_count": 47,
   "metadata": {},
   "outputs": [],
   "source": [
    "admin1 = Admin([\"can add post\", \"can delete post\", \"can ban user\"])"
   ]
  },
  {
   "cell_type": "code",
   "execution_count": 48,
   "metadata": {},
   "outputs": [
    {
     "name": "stdout",
     "output_type": "stream",
     "text": [
      "Admin have following privileges\n",
      "can add post\n",
      "can delete post\n",
      "can ban user\n"
     ]
    }
   ],
   "source": [
    "admin1.show_privileges()"
   ]
  },
  {
   "cell_type": "markdown",
   "metadata": {},
   "source": [
    "# 9-8."
   ]
  },
  {
   "cell_type": "markdown",
   "metadata": {},
   "source": [
    "Privileges: Write a separate Privileges class. The class should have one\n",
    "attribute, privileges, that stores a list of strings as described in Exercise 9-7.  \n",
    "Move the show_privileges() method to this class. Make a Privileges instance\n",
    "as an attribute in the Admin class. Create a new instance of Admin and use your\n",
    "method to show its privileges."
   ]
  },
  {
   "cell_type": "code",
   "execution_count": 49,
   "metadata": {},
   "outputs": [],
   "source": [
    "class Privileges:\n",
    "    def __init__(self, privileges):\n",
    "        self.privileges = privileges\n",
    "        \n",
    "    def show_privileges(self):\n",
    "        '''\n",
    "        This function just show the list of privileges an admin have.\n",
    "        It takes no argument.\n",
    "        '''\n",
    "        print(\"Admin have following privileges\")\n",
    "        for privilege in self.privileges:\n",
    "            print(privilege)"
   ]
  },
  {
   "cell_type": "code",
   "execution_count": 50,
   "metadata": {},
   "outputs": [],
   "source": [
    "admin2 = Admin([\"can add post\", \"can delete post\", \"can ban user\"])"
   ]
  },
  {
   "cell_type": "code",
   "execution_count": 51,
   "metadata": {},
   "outputs": [
    {
     "name": "stdout",
     "output_type": "stream",
     "text": [
      "Admin have following privileges\n",
      "can add post\n",
      "can delete post\n",
      "can ban user\n"
     ]
    }
   ],
   "source": [
    "admin2.privileges.show_privileges()"
   ]
  },
  {
   "cell_type": "markdown",
   "metadata": {},
   "source": [
    "# 9-9."
   ]
  },
  {
   "cell_type": "markdown",
   "metadata": {},
   "source": [
    "Battery Upgrade: Use the final version of electric_car.py from this section.\n",
    "Add a method to the Battery class called upgrade_battery(). This method\n",
    "should check the battery size and set the capacity to 100 if it isn’t already.\n",
    "Make an electric car with a default battery size, call get_range() once, and\n",
    "then call get_range() a second time after upgrading the battery. You should\n",
    "see an increase in the car’s range."
   ]
  },
  {
   "cell_type": "code",
   "execution_count": 58,
   "metadata": {},
   "outputs": [],
   "source": [
    "class Car:\n",
    "    \"\"\"A simple attempt to represent a car.\"\"\"\n",
    "    def __init__(self, make, model, year):\n",
    "        self.make = make\n",
    "        self.model = model\n",
    "        self.year = year\n",
    "        self.odometer_reading = 0\n",
    "    \n",
    "    def get_descriptive_name(self):\n",
    "        long_name = f\"{self.year} {self.manufacturer} {self.model}\"\n",
    "        return long_name.title()\n",
    "    \n",
    "    def read_odometer(self):\n",
    "        print(f\"This car has {self.odometer_reading} miles on it.\")\n",
    "    \n",
    "    def update_odometer(self, mileage):\n",
    "        if mileage >= self.odometer_reading:\n",
    "            self.odometer_reading = mileage\n",
    "        else:\n",
    "            print(\"You can't roll back an odometer!\")\n",
    "    \n",
    "    def increment_odometer(self, miles):\n",
    "        self.odometer_reading += miles\n",
    "        \n",
    "class Battery:\n",
    "    \"\"\"A simple attempt to model a battery for an electric car.\"\"\"\n",
    "    def __init__(self, battery_size=75):\n",
    "        \"\"\"Initialize the battery's attributes.\"\"\"\n",
    "        self.battery_size = battery_size\n",
    "    \n",
    "    def describe_battery(self):\n",
    "        \"\"\"Print a statement describing the battery size.\"\"\"\n",
    "        print(f\"This car has a {self.battery_size}-kWh battery.\")\n",
    "    \n",
    "    def get_range(self):\n",
    "        \"\"\"Print a statement about the range this battery provides.\"\"\"\n",
    "        if self.battery_size == 75:\n",
    "            range = 260\n",
    "        elif self.battery_size == 100:\n",
    "            range = 315\n",
    "        print(f\"This car can go about {range} miles on a full charge.\")\n",
    "        \n",
    "    def upgrade_battery(self):\n",
    "        \"\"\"\n",
    "        This function checks the battery size and set the capacity to 100\n",
    "        if it isn’t already.\n",
    "        \"\"\"\n",
    "        if self.battery_size < 100:\n",
    "            self.battery_size = 100\n",
    "\n",
    "class ElectricCar(Car):\n",
    "    \"\"\"Represent aspects of a car, specific to electric vehicles.\"\"\"\n",
    "    def __init__(self, make, model, year):\n",
    "        \"\"\"\n",
    "        Initialize attributes of the parent class.\n",
    "        Then initialize attributes specific to an electric car.\n",
    "        \"\"\"\n",
    "        super().__init__(make, model, year)\n",
    "        self.battery = Battery()"
   ]
  },
  {
   "cell_type": "code",
   "execution_count": 59,
   "metadata": {},
   "outputs": [],
   "source": [
    "electricCar = ElectricCar(\"Tesla\", \"Model S\", 2019)"
   ]
  },
  {
   "cell_type": "code",
   "execution_count": 60,
   "metadata": {},
   "outputs": [
    {
     "name": "stdout",
     "output_type": "stream",
     "text": [
      "This car can go about 260 miles on a full charge.\n"
     ]
    }
   ],
   "source": [
    "electricCar.battery.get_range()"
   ]
  },
  {
   "cell_type": "code",
   "execution_count": 61,
   "metadata": {},
   "outputs": [],
   "source": [
    "electricCar.battery.upgrade_battery()"
   ]
  },
  {
   "cell_type": "code",
   "execution_count": 63,
   "metadata": {},
   "outputs": [
    {
     "name": "stdout",
     "output_type": "stream",
     "text": [
      "This car can go about 315 miles on a full charge.\n"
     ]
    }
   ],
   "source": [
    "electricCar.battery.get_range()"
   ]
  },
  {
   "cell_type": "markdown",
   "metadata": {},
   "source": [
    "# 9-10."
   ]
  },
  {
   "cell_type": "markdown",
   "metadata": {},
   "source": [
    "Imported Restaurant: Using your latest Restaurant class, store it in a module.\n",
    "Make a separate file that imports Restaurant. Make a Restaurant instance,\n",
    "and call one of Restaurant’s methods to show that the import statement is working\n",
    "properly."
   ]
  },
  {
   "cell_type": "code",
   "execution_count": null,
   "metadata": {},
   "outputs": [],
   "source": []
  }
 ],
 "metadata": {
  "kernelspec": {
   "display_name": "Python 3",
   "language": "python",
   "name": "python3"
  },
  "language_info": {
   "codemirror_mode": {
    "name": "ipython",
    "version": 3
   },
   "file_extension": ".py",
   "mimetype": "text/x-python",
   "name": "python",
   "nbconvert_exporter": "python",
   "pygments_lexer": "ipython3",
   "version": "3.8.5"
  }
 },
 "nbformat": 4,
 "nbformat_minor": 4
}
