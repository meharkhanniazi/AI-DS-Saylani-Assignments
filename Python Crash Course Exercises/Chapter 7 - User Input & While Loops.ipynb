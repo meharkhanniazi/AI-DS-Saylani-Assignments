{
 "cells": [
  {
   "cell_type": "markdown",
   "metadata": {},
   "source": [
    "# Chapter 7 - User Input & While Loops"
   ]
  },
  {
   "cell_type": "markdown",
   "metadata": {},
   "source": [
    "# 7-1."
   ]
  },
  {
   "cell_type": "markdown",
   "metadata": {},
   "source": [
    "Rental Car: Write a program that asks the user what kind of rental car they\n",
    "would like. Print a message about that car, such as “Let me see if I can find you\n",
    "a Subaru.”"
   ]
  },
  {
   "cell_type": "code",
   "execution_count": 1,
   "metadata": {},
   "outputs": [
    {
     "name": "stdout",
     "output_type": "stream",
     "text": [
      "What kind of rental car they would like?Civic\n",
      "Let me see if I can find you a Civic.\n"
     ]
    }
   ],
   "source": [
    "userInput = input(\"What kind of rental car they would like?\")\n",
    "print(f\"Let me see if I can find you a {userInput}.\")"
   ]
  },
  {
   "cell_type": "markdown",
   "metadata": {},
   "source": [
    "# 7-2."
   ]
  },
  {
   "cell_type": "markdown",
   "metadata": {},
   "source": [
    "Restaurant Seating: Write a program that asks the user how many people\n",
    "are in their dinner group. If the answer is more than eight, print a message saying\n",
    "they’ll have to wait for a table. Otherwise, report that their table is ready."
   ]
  },
  {
   "cell_type": "code",
   "execution_count": 4,
   "metadata": {},
   "outputs": [
    {
     "name": "stdout",
     "output_type": "stream",
     "text": [
      "Dear user, how many people are in your dinner group?9\n",
      "I'm sorry! you’ll have to wait for a table.\n"
     ]
    }
   ],
   "source": [
    "noOfPersons = int(input(\"Dear user, how many people are in your dinner group?\"))\n",
    "if noOfPersons > 8:\n",
    "    print(\"I'm sorry! you’ll have to wait for a table.\")\n",
    "else:\n",
    "    print(\"Yeah! your table is ready.\")"
   ]
  },
  {
   "cell_type": "markdown",
   "metadata": {},
   "source": [
    "# 7-3"
   ]
  },
  {
   "cell_type": "markdown",
   "metadata": {},
   "source": [
    "Multiples of Ten: Ask the user for a number, and then report whether the\n",
    "number is a multiple of 10 or not."
   ]
  },
  {
   "cell_type": "code",
   "execution_count": 1,
   "metadata": {},
   "outputs": [
    {
     "name": "stdout",
     "output_type": "stream",
     "text": [
      "Enter any number to find whether it is a multiple of 10 or not? 45\n",
      "45 isn't a multiple of 10.\n"
     ]
    }
   ],
   "source": [
    "userInput = int(input(\"Enter any number to find whether it is a multiple of 10 or not? \"))\n",
    "if userInput % 10 == 0:\n",
    "    print(f\"{userInput} is a multiple of 10.\")\n",
    "else:\n",
    "    print(f\"{userInput} isn't a multiple of 10.\")"
   ]
  },
  {
   "cell_type": "markdown",
   "metadata": {},
   "source": [
    "# 7-4."
   ]
  },
  {
   "cell_type": "markdown",
   "metadata": {},
   "source": [
    "Pizza Toppings: Write a loop that prompts the user to enter a series of\n",
    "pizza toppings until they enter a 'quit' value. As they enter each topping,\n",
    "print a message saying you’ll add that topping to their pizza."
   ]
  },
  {
   "cell_type": "code",
   "execution_count": 3,
   "metadata": {},
   "outputs": [
    {
     "name": "stdout",
     "output_type": "stream",
     "text": [
      "Enter a pizza topping. Enter 'Quit' for exit:  Pepperoni\n",
      "I'll add pepperoni to your pizza.\n",
      "Enter a pizza topping. Enter 'Quit' for exit:  Sausage\n",
      "I'll add sausage to your pizza.\n",
      "Enter a pizza topping. Enter 'Quit' for exit:  QUIT\n"
     ]
    }
   ],
   "source": [
    "flag = True\n",
    "while flag:\n",
    "    pizzaTopping = input(\"Enter a pizza topping. Enter 'Quit' for exit:  \").lower()\n",
    "    if pizzaTopping == 'quit':\n",
    "        flag = False\n",
    "    else:\n",
    "        print(f\"I'll add {pizzaTopping} to your pizza.\")"
   ]
  },
  {
   "cell_type": "markdown",
   "metadata": {},
   "source": [
    "# 7-5."
   ]
  },
  {
   "cell_type": "markdown",
   "metadata": {},
   "source": [
    "Movie Tickets: A movie theater charges different ticket prices depending on\n",
    "a person’s age. If a person is under the age of 3, the ticket is free; if they are between 3 and 12, the ticket is $10 and if they are over age 12, the ticket is $15. Write a loop in which you ask users their age, and then tell them the cost of their movie ticket."
   ]
  },
  {
   "cell_type": "code",
   "execution_count": 5,
   "metadata": {},
   "outputs": [
    {
     "name": "stdout",
     "output_type": "stream",
     "text": [
      "Enter your age to find your ticket's price. Enter 'Quit' for exit:  4\n",
      "Your ticket costs $10.\n",
      "Enter your age to find your ticket's price. Enter 'Quit' for exit:  3\n",
      "Your ticket is completely free.\n",
      "Enter your age to find your ticket's price. Enter 'Quit' for exit:  1\n",
      "Your ticket is completely free.\n",
      "Enter your age to find your ticket's price. Enter 'Quit' for exit:  12\n",
      "Your ticket costs $15.\n",
      "Enter your age to find your ticket's price. Enter 'Quit' for exit:  9\n",
      "Your ticket costs $10.\n",
      "Enter your age to find your ticket's price. Enter 'Quit' for exit:  88\n",
      "Your ticket costs $15.\n",
      "Enter your age to find your ticket's price. Enter 'Quit' for exit:  quit\n"
     ]
    }
   ],
   "source": [
    "flag = True\n",
    "while flag:\n",
    "    ticketPrice = input(\"Enter your age to find your ticket's price. Enter 'Quit' for exit:  \").lower()\n",
    "    if ticketPrice == 'quit':\n",
    "        flag = False\n",
    "    elif int(ticketPrice) <= 3:\n",
    "        print(\"Your ticket is completely free.\")\n",
    "    elif int(ticketPrice) > 3 and int(ticketPrice) < 12:\n",
    "        print(\"Your ticket costs $10.\")\n",
    "    else:\n",
    "        print(\"Your ticket costs $15.\")"
   ]
  },
  {
   "cell_type": "markdown",
   "metadata": {},
   "source": [
    "# 7-6."
   ]
  },
  {
   "cell_type": "markdown",
   "metadata": {},
   "source": [
    "Three Exits: Write different versions of either Exercise 7-4 or Exercise 7-5\n",
    "that do each of the following at least once:  \n",
    "• Use a conditional test in the while statement to stop the loop.  \n",
    "• Use an active variable to control how long the loop runs.  \n",
    "• Use a break statement to exit the loop when the user enters a 'quit' value."
   ]
  },
  {
   "cell_type": "code",
   "execution_count": 7,
   "metadata": {},
   "outputs": [
    {
     "name": "stdout",
     "output_type": "stream",
     "text": [
      "Enter your age to find your ticket's price. Enter 'Quit' for exit:  4\n",
      "Your ticket costs $10.\n",
      "Enter your age to find your ticket's price. Enter 'Quit' for exit:  9\n",
      "Your ticket costs $10.\n",
      "Enter your age to find your ticket's price. Enter 'Quit' for exit:  45\n",
      "Your ticket costs $15.\n",
      "Enter your age to find your ticket's price. Enter 'Quit' for exit:  quit\n"
     ]
    }
   ],
   "source": [
    "flag = True\n",
    "while flag:\n",
    "    ticketPrice = input(\"Enter your age to find your ticket's price. Enter 'Quit' for exit:  \").lower()\n",
    "    if ticketPrice == 'quit':\n",
    "        flag = False\n",
    "    elif int(ticketPrice) <= 3:\n",
    "        print(\"Your ticket is completely free.\")\n",
    "    elif int(ticketPrice) > 3 and int(ticketPrice) < 12:\n",
    "        print(\"Your ticket costs $10.\")\n",
    "    else:\n",
    "        print(\"Your ticket costs $15.\")"
   ]
  },
  {
   "cell_type": "code",
   "execution_count": 8,
   "metadata": {},
   "outputs": [
    {
     "name": "stdout",
     "output_type": "stream",
     "text": [
      "For how many people you want to know the price?4\n",
      "Enter your age to find your ticket's price:  9\n",
      "Your ticket costs $10.\n",
      "Enter your age to find your ticket's price:  8\n",
      "Your ticket costs $10.\n",
      "Enter your age to find your ticket's price:  7\n",
      "Your ticket costs $10.\n",
      "Enter your age to find your ticket's price:  64\n",
      "Your ticket costs $15.\n"
     ]
    }
   ],
   "source": [
    "num = 0\n",
    "numOfTickets = int(input(\"For how many people you want to know the price?\"))\n",
    "while num < numOfTickets:\n",
    "    ticketPrice = input(\"Enter your age to find your ticket's price:  \")\n",
    "    if int(ticketPrice) <= 3:\n",
    "        print(\"Your ticket is completely free.\")\n",
    "    elif int(ticketPrice) > 3 and int(ticketPrice) < 12:\n",
    "        print(\"Your ticket costs $10.\")\n",
    "    else:\n",
    "        print(\"Your ticket costs $15.\")\n",
    "    num += 1"
   ]
  },
  {
   "cell_type": "code",
   "execution_count": 9,
   "metadata": {},
   "outputs": [
    {
     "name": "stdout",
     "output_type": "stream",
     "text": [
      "Enter your age to find your ticket's price. Enter 'Quit' for exit:  8\n",
      "Your ticket costs $10.\n",
      "Enter your age to find your ticket's price. Enter 'Quit' for exit:  6\n",
      "Your ticket costs $10.\n",
      "Enter your age to find your ticket's price. Enter 'Quit' for exit:  45\n",
      "Your ticket costs $15.\n",
      "Enter your age to find your ticket's price. Enter 'Quit' for exit:  12\n",
      "Your ticket costs $15.\n",
      "Enter your age to find your ticket's price. Enter 'Quit' for exit:  33\n",
      "Your ticket costs $15.\n",
      "Enter your age to find your ticket's price. Enter 'Quit' for exit:  quit\n"
     ]
    }
   ],
   "source": [
    "while True:\n",
    "    ticketPrice = input(\"Enter your age to find your ticket's price. Enter 'Quit' for exit:  \").lower()\n",
    "    if ticketPrice == 'quit':\n",
    "        break\n",
    "    elif int(ticketPrice) <= 3:\n",
    "        print(\"Your ticket is completely free.\")\n",
    "    elif int(ticketPrice) > 3 and int(ticketPrice) < 12:\n",
    "        print(\"Your ticket costs $10.\")\n",
    "    else:\n",
    "        print(\"Your ticket costs $15.\")"
   ]
  },
  {
   "cell_type": "markdown",
   "metadata": {},
   "source": [
    "# 7-7."
   ]
  },
  {
   "cell_type": "markdown",
   "metadata": {},
   "source": [
    "Infinity: Write a loop that never ends, and run it. (To end the loop, press\n",
    "ctrl-C or close the window displaying the output.)"
   ]
  },
  {
   "cell_type": "code",
   "execution_count": null,
   "metadata": {},
   "outputs": [
    {
     "name": "stdout",
     "output_type": "stream",
     "text": [
      "Enter your age to find your ticket's price:  4\n",
      "Your ticket costs $10.\n",
      "Enter your age to find your ticket's price:  5\n",
      "Your ticket costs $10.\n",
      "Enter your age to find your ticket's price:  6\n",
      "Your ticket costs $10.\n",
      "Enter your age to find your ticket's price:  7\n",
      "Your ticket costs $10.\n",
      "Enter your age to find your ticket's price:  9\n",
      "Your ticket costs $10.\n",
      "Enter your age to find your ticket's price:  12\n",
      "Your ticket costs $15.\n",
      "Enter your age to find your ticket's price:  45\n",
      "Your ticket costs $15.\n",
      "Enter your age to find your ticket's price:  65\n",
      "Your ticket costs $15.\n"
     ]
    }
   ],
   "source": [
    "while True:\n",
    "    ticketPrice = input(\"Enter your age to find your ticket's price:  \").lower()\n",
    "    if int(ticketPrice) <= 3:\n",
    "        print(\"Your ticket is completely free.\")\n",
    "    elif int(ticketPrice) > 3 and int(ticketPrice) < 12:\n",
    "        print(\"Your ticket costs $10.\")\n",
    "    else:\n",
    "        print(\"Your ticket costs $15.\")"
   ]
  },
  {
   "cell_type": "markdown",
   "metadata": {},
   "source": [
    "# 7-8."
   ]
  },
  {
   "cell_type": "markdown",
   "metadata": {},
   "source": [
    "Deli: Make a list called sandwich_orders and fill it with the names of various\n",
    "sandwiches. Then make an empty list called finished_sandwiches. Loop\n",
    "through the list of sandwich orders and print a message for each order, such\n",
    "as I made your tuna sandwich. As each sandwich is made, move it to the list\n",
    "of finished sandwiches. After all the sandwiches have been made, print a\n",
    "message listing each sandwich that was made."
   ]
  },
  {
   "cell_type": "code",
   "execution_count": 5,
   "metadata": {},
   "outputs": [
    {
     "name": "stdout",
     "output_type": "stream",
     "text": [
      "I made your Beef Sandwich.\n",
      "I made your Cheese Sandwich.\n",
      "I made your Chicken Sandwich.\n",
      "I made your Grilled Cheese Sandwich.\n",
      "I made your Turkey Sandwich.\n",
      "Sandwiches made:\n",
      "Beef Sandwich\n",
      "Cheese Sandwich\n",
      "Chicken Sandwich\n",
      "Grilled Cheese Sandwich\n",
      "Turkey Sandwich\n"
     ]
    }
   ],
   "source": [
    "sandwich_orders = [\"Beef Sandwich\", \"Cheese Sandwich\", \"Chicken Sandwich\", \"Grilled Cheese Sandwich\", \"Turkey Sandwich\"]\n",
    "finished_sandwiches = []\n",
    "for sandwich in sandwich_orders:\n",
    "    print(f\"I made your {sandwich}.\")\n",
    "    finished_sandwiches.append(sandwich)\n",
    "print(\"Sandwiches made:\")\n",
    "for sandwich in finished_sandwiches:\n",
    "    print(sandwich)"
   ]
  },
  {
   "cell_type": "markdown",
   "metadata": {},
   "source": [
    "# 7-9."
   ]
  },
  {
   "cell_type": "markdown",
   "metadata": {},
   "source": [
    "No Pastrami: Using the list sandwich_orders from Exercise 7-8, make sure\n",
    "the sandwich 'pastrami' appears in the list at least three times. Add code\n",
    "near the beginning of your program to print a message saying the deli has\n",
    "run out of pastrami, and then use a while loop to remove all occurrences of\n",
    "'pastrami' from sandwich_orders. Make sure no pastrami sandwiches end up\n",
    "in finished_sandwiches."
   ]
  },
  {
   "cell_type": "code",
   "execution_count": 3,
   "metadata": {},
   "outputs": [
    {
     "name": "stdout",
     "output_type": "stream",
     "text": [
      "Deli has run out of 'Pastrami'.\n",
      "I made your Beef Sandwich.\n",
      "I made your Cheese Sandwich.\n",
      "I made your Chicken Sandwich.\n",
      "I made your Grilled Cheese Sandwich.\n",
      "I made your Turkey Sandwich.\n",
      "Sandwiches made:\n",
      "Beef Sandwich\n",
      "Cheese Sandwich\n",
      "Chicken Sandwich\n",
      "Grilled Cheese Sandwich\n",
      "Turkey Sandwich\n"
     ]
    }
   ],
   "source": [
    "sandwich_orders = [\"Beef Sandwich\", \"Cheese Sandwich\", \"Chicken Sandwich\", \"Pastrami Sandwich\", \"Grilled Cheese Sandwich\", \"Pastrami Sandwich\", \"Turkey Sandwich\", \"Pastrami Sandwich\"]\n",
    "finished_sandwiches = []\n",
    "print(\"Deli has run out of 'Pastrami'.\")\n",
    "while True:\n",
    "    sandwich_orders.remove(\"Pastrami Sandwich\")\n",
    "    if \"Pastrami Sandwich\" not in sandwich_orders:\n",
    "        break\n",
    "for sandwich in sandwich_orders:\n",
    "    print(f\"I made your {sandwich}.\")\n",
    "    finished_sandwiches.append(sandwich)\n",
    "print(\"Sandwiches made:\")\n",
    "for sandwich in finished_sandwiches:\n",
    "    print(sandwich)"
   ]
  },
  {
   "cell_type": "markdown",
   "metadata": {},
   "source": [
    "# 7-10."
   ]
  },
  {
   "cell_type": "markdown",
   "metadata": {},
   "source": [
    "Dream Vacation: Write a program that polls users about their dream vacation.\n",
    "Write a prompt similar to If you could visit one place in the world, where\n",
    "would you go? Include a block of code that prints the results of the poll."
   ]
  },
  {
   "cell_type": "code",
   "execution_count": 4,
   "metadata": {},
   "outputs": [
    {
     "name": "stdout",
     "output_type": "stream",
     "text": [
      "If you could visit one place in the world, where would you go?Gilgit Baltistan\n",
      "I want to go Gilgit Baltistan.\n"
     ]
    }
   ],
   "source": [
    "dreamVacation = input(\"If you could visit one place in the world, where would you go?\")\n",
    "print(f\"I want to go {dreamVacation}.\")"
   ]
  },
  {
   "cell_type": "code",
   "execution_count": null,
   "metadata": {},
   "outputs": [],
   "source": []
  }
 ],
 "metadata": {
  "kernelspec": {
   "display_name": "Python 3",
   "language": "python",
   "name": "python3"
  },
  "language_info": {
   "codemirror_mode": {
    "name": "ipython",
    "version": 3
   },
   "file_extension": ".py",
   "mimetype": "text/x-python",
   "name": "python",
   "nbconvert_exporter": "python",
   "pygments_lexer": "ipython3",
   "version": "3.7.6"
  }
 },
 "nbformat": 4,
 "nbformat_minor": 4
}
