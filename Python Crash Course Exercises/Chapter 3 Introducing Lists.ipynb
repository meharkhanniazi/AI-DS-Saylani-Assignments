{
 "cells": [
  {
   "cell_type": "markdown",
   "metadata": {},
   "source": [
    "# Chapter 3 - Introducing Lists"
   ]
  },
  {
   "cell_type": "markdown",
   "metadata": {},
   "source": [
    "3-1. Names: Store the names of a few of your friends in a list called names. Print\n",
    "each person’s name by accessing each element in the list, one at a time."
   ]
  },
  {
   "cell_type": "code",
   "execution_count": 20,
   "metadata": {},
   "outputs": [
    {
     "name": "stdout",
     "output_type": "stream",
     "text": [
      "Noman Mughal\n",
      "Aznain Tariq\n",
      "Muhammad Azhar\n",
      "Orangzeb Saleem\n"
     ]
    }
   ],
   "source": [
    "names = [\"Noman Mughal\", \"Aznain Tariq\", \"Muhammad Azhar\", \"Orangzeb Saleem\"]\n",
    "for name in names:\n",
    "    print(name)"
   ]
  },
  {
   "cell_type": "markdown",
   "metadata": {},
   "source": [
    "3-2. Greetings: Start with the list you used in Exercise 3-1, but instead of just\n",
    "printing each person’s name, print a message to them. The text of each message\n",
    "should be the same, but each message should be personalized with the\n",
    "person’s name."
   ]
  },
  {
   "cell_type": "code",
   "execution_count": 21,
   "metadata": {},
   "outputs": [
    {
     "name": "stdout",
     "output_type": "stream",
     "text": [
      "You are my friend Noman Mughal.\n",
      "You are my friend Aznain Tariq.\n",
      "You are my friend Muhammad Azhar.\n",
      "You are my friend Orangzeb Saleem.\n"
     ]
    }
   ],
   "source": [
    "for name in names:\n",
    "    print(\"You are my friend {}.\".format(name))"
   ]
  },
  {
   "cell_type": "markdown",
   "metadata": {},
   "source": [
    "3-3. Your Own List: Think of your favorite mode of transportation, such as a\n",
    "motorcycle or a car, and make a list that stores several examples. Use your list\n",
    "to print a series of statements about these items, such as “I would like to own a\n",
    "Honda motorcycle.”"
   ]
  },
  {
   "cell_type": "code",
   "execution_count": 22,
   "metadata": {},
   "outputs": [
    {
     "name": "stdout",
     "output_type": "stream",
     "text": [
      "['I have a Motorcycle.', 'I love my Motorcycle.', 'Because I use it for my important tasks.']\n"
     ]
    }
   ],
   "source": [
    "myList = [\"I have a Motorcycle.\",\"I love my Motorcycle.\",\"Because I use it for my important tasks.\"]\n",
    "print(myList)"
   ]
  },
  {
   "cell_type": "markdown",
   "metadata": {},
   "source": [
    "3-4. Guest List: If you could invite anyone, living or deceased, to dinner, who\n",
    "would you invite? Make a list that includes at least three people you’d like to\n",
    "invite to dinner. Then use your list to print a message to each person, inviting\n",
    "them to dinner."
   ]
  },
  {
   "cell_type": "code",
   "execution_count": 2,
   "metadata": {},
   "outputs": [
    {
     "name": "stdout",
     "output_type": "stream",
     "text": [
      "Dear Aznain Tariq, you are invited to the Dinner tomorrow. I'm sure you will join us.\n",
      "Dear Abdul Basit, you are invited to the Dinner tomorrow. I'm sure you will join us.\n",
      "Dear Noman Mughal, you are invited to the Dinner tomorrow. I'm sure you will join us.\n",
      "Dear Muhammad Azhar, you are invited to the Dinner tomorrow. I'm sure you will join us.\n"
     ]
    }
   ],
   "source": [
    "guests = [\"Aznain Tariq\", \"Abdul Basit\", \"Noman Mughal\", \"Muhammad Azhar\"]\n",
    "for guest in guests:\n",
    "    print(\"Dear {}, you are invited to the Dinner tomorrow. I'm sure you will join us.\".format(guest))"
   ]
  },
  {
   "cell_type": "markdown",
   "metadata": {},
   "source": [
    "3-5. Changing Guest List: You just heard that one of your guests can’t make the\n",
    "dinner, so you need to send out a new set of invitations. You’ll have to think of\n",
    "someone else to invite.  \n",
    "• Start with your program from Exercise 3-4. Add a print() call at the end\n",
    "of your program stating the name of the guest who can’t make it.  \n",
    "• Modify your list, replacing the name of the guest who can’t make it with\n",
    "the name of the new person you are inviting.  \n",
    "• Print a second set of invitation messages, one for each person who is still\n",
    "in your list."
   ]
  },
  {
   "cell_type": "code",
   "execution_count": 3,
   "metadata": {},
   "outputs": [
    {
     "name": "stdout",
     "output_type": "stream",
     "text": [
      "Abdul Basit\n",
      "Dear Aznain Tariq, you are invited to the Dinner tomorrow. I'm sure you will join us.\n",
      "Dear Ahtisham ul Haq, you are invited to the Dinner tomorrow. I'm sure you will join us.\n",
      "Dear Noman Mughal, you are invited to the Dinner tomorrow. I'm sure you will join us.\n",
      "Dear Muhammad Azhar, you are invited to the Dinner tomorrow. I'm sure you will join us.\n"
     ]
    }
   ],
   "source": [
    "print(guests[1])\n",
    "guests[1] = \"Ahtisham ul Haq\"\n",
    "for guest in guests:\n",
    "    print(\"Dear {}, you are invited to the Dinner tomorrow. I'm sure you will join us.\".format(guest))"
   ]
  },
  {
   "cell_type": "markdown",
   "metadata": {},
   "source": [
    "3-6. More Guests: You just found a bigger dinner table, so now more space is\n",
    "available. Think of three more guests to invite to dinner.  \n",
    "• Start with your program from Exercise 3-4 or Exercise 3-5. Add a print()\n",
    "call to the end of your program informing people that you found a bigger\n",
    "dinner table.  \n",
    "• Use insert() to add one new guest to the beginning of your list.  \n",
    "• Use insert() to add one new guest to the middle of your list.  \n",
    "• Use append() to add one new guest to the end of your list.  \n",
    "• Print a new set of invitation messages, one for each person in your list."
   ]
  },
  {
   "cell_type": "code",
   "execution_count": 25,
   "metadata": {},
   "outputs": [
    {
     "name": "stdout",
     "output_type": "stream",
     "text": [
      "Dear Musawwir Arman, you are invited to the Dinner tomorrow. I'm sure you will join us.\n",
      "Dear Aznain Tariq, you are invited to the Dinner tomorrow. I'm sure you will join us.\n",
      "Dear Ahtisham ul Haq, you are invited to the Dinner tomorrow. I'm sure you will join us.\n",
      "Dear Tanveer Meer, you are invited to the Dinner tomorrow. I'm sure you will join us.\n",
      "Dear Noman Mughal, you are invited to the Dinner tomorrow. I'm sure you will join us.\n",
      "Dear Muhammad Azhar, you are invited to the Dinner tomorrow. I'm sure you will join us.\n",
      "Dear Ali Ahmed, you are invited to the Dinner tomorrow. I'm sure you will join us.\n"
     ]
    }
   ],
   "source": [
    "guests.insert(0,\"Musawwir Arman\")\n",
    "guests.insert(3,\"Tanveer Meer\")\n",
    "guests.append(\"Ali Ahmed\")\n",
    "for guest in guests:\n",
    "    print(\"Dear {}, you are invited to the Dinner tomorrow. I'm sure you will join us.\".format(guest))"
   ]
  },
  {
   "cell_type": "markdown",
   "metadata": {},
   "source": [
    "3-7. Shrinking Guest List: You just found out that your new dinner table won’t\n",
    "arrive in time for the dinner, and you have space for only two guests.  \n",
    "• Start with your program from Exercise 3-6. Add a new line that prints a\n",
    "message saying that you can invite only two people for dinner.  \n",
    "• Use pop() to remove guests from your list one at a time until only two\n",
    "names remain in your list. Each time you pop a name from your list, print\n",
    "a message to that person letting them know you’re sorry you can’t invite\n",
    "them to dinner.  \n",
    "• Print a message to each of the two people still on your list, letting them\n",
    "know they’re still invited.  \n",
    "• Use del to remove the last two names from your list, so you have an empty\n",
    "list. Print your list to make sure you actually have an empty list at the end\n",
    "of your program."
   ]
  },
  {
   "cell_type": "code",
   "execution_count": 26,
   "metadata": {},
   "outputs": [
    {
     "name": "stdout",
     "output_type": "stream",
     "text": [
      "Sorry Friends! I can invite only two friends to dinner.\n",
      "Dear Musawwir Arman, you are still invited to the Dinner tomorrow. I'm sure you will join us.\n",
      "Dear Aznain Tariq, you are still invited to the Dinner tomorrow. I'm sure you will join us.\n",
      "[]\n"
     ]
    }
   ],
   "source": [
    "print(\"Sorry Friends! I can invite only two friends to dinner.\")\n",
    "guests.pop()\n",
    "guests.pop()\n",
    "guests.pop()\n",
    "guests.pop()\n",
    "guests.pop()\n",
    "for guest in guests:\n",
    "    print(\"Dear {}, you are still invited to the Dinner tomorrow. I'm sure you will join us.\".format(guest))\n",
    "guests.remove(\"Aznain Tariq\")\n",
    "guests.remove(\"Musawwir Arman\")\n",
    "print(guests)"
   ]
  },
  {
   "cell_type": "markdown",
   "metadata": {},
   "source": [
    "3-8. Seeing the World: Think of at least five places in the world you’d like to\n",
    "visit.  \n",
    "• Store the locations in a list. Make sure the list is not in alphabetical order.  \n",
    "• Print your list in its original order. Don’t worry about printing the list neatly, just print it as a raw Python list.  \n",
    "• Use sorted() to print your list in alphabetical order without modifying the\n",
    "actual list.  \n",
    "• Show that your list is still in its original order by printing it.  \n",
    "• Use sorted() to print your list in reverse alphabetical order without changing the order of the original list.  \n",
    "• Show that your list is still in its original order by printing it again.  \n",
    "• Use reverse() to change the order of your list. Print the list to show that its order has changed.  \n",
    "• Use reverse() to change the order of your list again. Print the list to show\n",
    "it’s back to its original order.  \n",
    "• Use sort() to change your list so it’s stored in alphabetical order. Print the list to show that its order has been changed.  \n",
    "• Use sort() to change your list so it’s stored in reverse alphabetical order.\n",
    "Print the list to show that its order has changed."
   ]
  },
  {
   "cell_type": "code",
   "execution_count": 39,
   "metadata": {},
   "outputs": [
    {
     "name": "stdout",
     "output_type": "stream",
     "text": [
      "['Pakistan', 'Turkey', 'Switzerland', 'England', 'Iran']\n",
      "['England', 'Iran', 'Pakistan', 'Switzerland', 'Turkey']\n",
      "['Pakistan', 'Turkey', 'Switzerland', 'England', 'Iran']\n",
      "['Iran', 'England', 'Switzerland', 'Turkey', 'Pakistan']\n",
      "['Pakistan', 'Turkey', 'Switzerland', 'England', 'Iran']\n",
      "['England', 'Iran', 'Pakistan', 'Switzerland', 'Turkey']\n",
      "['Turkey', 'Switzerland', 'Pakistan', 'Iran', 'England']\n"
     ]
    }
   ],
   "source": [
    "places = [\"Pakistan\", \"Turkey\", \"Switzerland\", \"England\", \"Iran\"]\n",
    "print(places)\n",
    "print(sorted(places))\n",
    "print(places)\n",
    "places.reverse()\n",
    "print(places)\n",
    "places.reverse()\n",
    "print(places)\n",
    "places.sort()\n",
    "print(places)\n",
    "places.sort(reverse=True)\n",
    "print(places)"
   ]
  },
  {
   "cell_type": "markdown",
   "metadata": {},
   "source": [
    "3-9. Dinner Guests: Working with one of the programs from Exercises 3-4\n",
    "through 3-7 (page 42), use len() to print a message indicating the number\n",
    "of people you are inviting to dinner."
   ]
  },
  {
   "cell_type": "code",
   "execution_count": 6,
   "metadata": {},
   "outputs": [
    {
     "name": "stdout",
     "output_type": "stream",
     "text": [
      "Hurray! I'm inviting 4 people to my upcoming dinner.\n"
     ]
    }
   ],
   "source": [
    "print(f\"Hurray! I'm inviting {len(guests)} people to my upcoming dinner.\")"
   ]
  },
  {
   "cell_type": "markdown",
   "metadata": {},
   "source": [
    "3-10. Every Function: Think of something you could store in a list. For example,\n",
    "you could make a list of mountains, rivers, countries, cities, languages, or anything\n",
    "else you’d like. Write a program that creates a list containing these items\n",
    "and then uses each function introduced in this chapter at least once."
   ]
  },
  {
   "cell_type": "code",
   "execution_count": 25,
   "metadata": {},
   "outputs": [
    {
     "name": "stdout",
     "output_type": "stream",
     "text": [
      "Pakistan\n",
      "PAKISTAN\n",
      "pakistan\n",
      "-------------------------------\n",
      "['Pakistan', 'India', 'China', 'Iran', 'Turkey', 'Afghanistan', 'Qatar', 'Saudi Arabia', 'Bangladesh', 'United Arab Emirates']\n",
      "-------------------------------\n",
      "['Pakistan', 'Plestine', 'China', 'Iran', 'Turkey', 'Afghanistan', 'Qatar', 'Saudi Arabia', 'Bangladesh', 'United Arab Emirates']\n",
      "United Arab Emirates is removed now, our updated list is:\n",
      "['Pakistan', 'Plestine', 'China', 'Iran', 'Turkey', 'Afghanistan', 'Qatar', 'Saudi Arabia', 'Bangladesh']\n",
      "Now, I want to remove Bangladesh from my list:\n",
      "Bangladesh is removed now, our updated list is:\n",
      "['Pakistan', 'Plestine', 'China', 'Iran', 'Turkey', 'Afghanistan', 'Qatar', 'Saudi Arabia']\n",
      "Now, I want to remove Qatar from my list:\n",
      "Qatar is removed now, our updated list is:\n",
      "['Pakistan', 'Plestine', 'China', 'Iran', 'Turkey', 'Afghanistan', 'Saudi Arabia']\n",
      "-------------------------------\n",
      "['Afghanistan', 'China', 'Iran', 'Pakistan', 'Plestine', 'Saudi Arabia', 'Turkey']\n",
      "['Pakistan', 'Plestine', 'China', 'Iran', 'Turkey', 'Afghanistan', 'Saudi Arabia']\n",
      "['Afghanistan', 'China', 'Iran', 'Pakistan', 'Plestine', 'Saudi Arabia', 'Turkey']\n",
      "-------------------------------\n",
      "7\n"
     ]
    }
   ],
   "source": [
    "countries = [\"Pakistan\", \"India\", \"China\", \"Iran\", \"Turkey\", \"Afghanistan\", \"Qatar\", \"Saudi Arabia\", \"Bangladesh\"]\n",
    "#Text Formating\n",
    "print(countries[0].title())\n",
    "print(countries[0].upper())\n",
    "print(countries[0].lower())\n",
    "print(\"-------------------------------\")\n",
    "\n",
    "#Inserting Items to List\n",
    "countries.append(\"United Arab Emirates\")\n",
    "print(countries)\n",
    "countries.insert(1,\"Plestine\")\n",
    "countries\n",
    "print(\"-------------------------------\")\n",
    "\n",
    "#Removing Elements from a List\n",
    "del countries[2]\n",
    "print(countries)\n",
    "deletedItem = countries.pop()\n",
    "print(f\"{deletedItem} is removed now, our updated list is:\")\n",
    "print(countries)\n",
    "print(\"Now, I want to remove Bangladesh from my list:\")\n",
    "deletedItem = countries.pop(8)\n",
    "print(f\"{deletedItem} is removed now, our updated list is:\")\n",
    "print(countries)\n",
    "print(\"Now, I want to remove Qatar from my list:\")\n",
    "countries.remove(\"Qatar\")\n",
    "print(\"Qatar is removed now, our updated list is:\")\n",
    "print(countries)\n",
    "print(\"-------------------------------\")\n",
    "\n",
    "#Organizing a List\n",
    "print(sorted(countries))\n",
    "print(countries)\n",
    "countries.sort()\n",
    "print(countries)\n",
    "countries.sort(reverse=True)\n",
    "countries\n",
    "countries.reverse()\n",
    "countries\n",
    "print(\"-------------------------------\")\n",
    "\n",
    "#Finding Length of a List\n",
    "print(len(countries))"
   ]
  },
  {
   "cell_type": "markdown",
   "metadata": {},
   "source": [
    "3-11. Intentional Error: If you haven’t received an index error in one of your\n",
    "programs yet, try to make one happen. Change an index in one of your programs\n",
    "to produce an index error. Make sure you correct the error before closing\n",
    "the program."
   ]
  },
  {
   "cell_type": "code",
   "execution_count": 26,
   "metadata": {},
   "outputs": [
    {
     "ename": "IndexError",
     "evalue": "list index out of range",
     "output_type": "error",
     "traceback": [
      "\u001b[1;31m---------------------------------------------------------------------------\u001b[0m",
      "\u001b[1;31mIndexError\u001b[0m                                Traceback (most recent call last)",
      "\u001b[1;32m<ipython-input-26-d4f700a0adfa>\u001b[0m in \u001b[0;36m<module>\u001b[1;34m\u001b[0m\n\u001b[1;32m----> 1\u001b[1;33m \u001b[0mprint\u001b[0m\u001b[1;33m(\u001b[0m\u001b[0mcountries\u001b[0m\u001b[1;33m[\u001b[0m\u001b[1;36m9\u001b[0m\u001b[1;33m]\u001b[0m\u001b[1;33m)\u001b[0m\u001b[1;33m\u001b[0m\u001b[1;33m\u001b[0m\u001b[0m\n\u001b[0m",
      "\u001b[1;31mIndexError\u001b[0m: list index out of range"
     ]
    }
   ],
   "source": [
    "print(countries[9])"
   ]
  },
  {
   "cell_type": "code",
   "execution_count": 28,
   "metadata": {},
   "outputs": [
    {
     "name": "stdout",
     "output_type": "stream",
     "text": [
      "['Afghanistan', 'China', 'Iran', 'Pakistan', 'Plestine', 'Saudi Arabia', 'Turkey']\n",
      "7\n",
      "Turkey\n"
     ]
    }
   ],
   "source": [
    "print(countries)\n",
    "print(len(countries))\n",
    "print(countries[6])"
   ]
  },
  {
   "cell_type": "code",
   "execution_count": null,
   "metadata": {},
   "outputs": [],
   "source": []
  }
 ],
 "metadata": {
  "kernelspec": {
   "display_name": "Python 3",
   "language": "python",
   "name": "python3"
  },
  "language_info": {
   "codemirror_mode": {
    "name": "ipython",
    "version": 3
   },
   "file_extension": ".py",
   "mimetype": "text/x-python",
   "name": "python",
   "nbconvert_exporter": "python",
   "pygments_lexer": "ipython3",
   "version": "3.7.6"
  }
 },
 "nbformat": 4,
 "nbformat_minor": 4
}
