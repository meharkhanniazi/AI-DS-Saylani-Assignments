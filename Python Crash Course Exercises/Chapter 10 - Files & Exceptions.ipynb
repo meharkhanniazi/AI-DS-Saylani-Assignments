{
 "cells": [
  {
   "cell_type": "markdown",
   "metadata": {},
   "source": [
    "# Chapter 10 - Files & Exceptions"
   ]
  },
  {
   "cell_type": "markdown",
   "metadata": {},
   "source": [
    "# 10-1."
   ]
  },
  {
   "cell_type": "markdown",
   "metadata": {},
   "source": [
    "Learning Python: Open a blank file in your text editor and write a few\n",
    "lines summarizing what you’ve learned about Python so far. Start each line\n",
    "with the phrase In Python you can. . . . Save the file as learning_python.txt in\n",
    "the same directory as your exercises from this chapter. Write a program that\n",
    "reads the file and prints what you wrote three times. Print the contents once by\n",
    "reading in the entire file, once by looping over the file object, and once by storing\n",
    "the lines in a list and then working with them outside the with block."
   ]
  },
  {
   "cell_type": "code",
   "execution_count": 1,
   "metadata": {},
   "outputs": [
    {
     "name": "stdout",
     "output_type": "stream",
     "text": [
      "So far I learned many things in Python.\n",
      "Python is very cool.\n",
      "Python is one of the most popular languages.\n",
      "I love Python.\n"
     ]
    }
   ],
   "source": [
    "with open('learning_python.txt', 'r') as file:\n",
    "    fileLine = file.read()\n",
    "print(fileLine)"
   ]
  },
  {
   "cell_type": "code",
   "execution_count": 2,
   "metadata": {},
   "outputs": [
    {
     "name": "stdout",
     "output_type": "stream",
     "text": [
      "So far I learned many things in Python.\n",
      "Python is very cool.\n",
      "Python is one of the most popular languages.\n",
      "I love Python.\n"
     ]
    }
   ],
   "source": [
    "with open('learning_python.txt', 'r') as file:\n",
    "    for line in range(4):\n",
    "        fileLine = file.readline()\n",
    "        print(fileLine.strip())"
   ]
  },
  {
   "cell_type": "code",
   "execution_count": 3,
   "metadata": {},
   "outputs": [
    {
     "name": "stdout",
     "output_type": "stream",
     "text": [
      "So far I learned many things in Python.\n",
      "Python is very cool.\n",
      "Python is one of the most popular languages.\n",
      "I love Python.\n"
     ]
    }
   ],
   "source": [
    "with open('learning_python.txt', 'r') as file:\n",
    "    fileLine = []\n",
    "    for line in range(4):\n",
    "        fileLine.append(file.readline())\n",
    "for line in fileLine:\n",
    "    print(line.strip())"
   ]
  },
  {
   "cell_type": "markdown",
   "metadata": {},
   "source": [
    "# 10-2."
   ]
  },
  {
   "cell_type": "markdown",
   "metadata": {},
   "source": [
    "Learning C: You can use the replace() method to replace any word in a\n",
    "string with a different word. Here’s a quick example showing how to replace\n",
    "'dog' with 'cat' in a sentence:  \n",
    "message = \"I really like dogs.\"  \n",
    "message.replace('dog', 'cat')  \n",
    "'I really like cats.'  \n",
    "Read in each line from the file you just created, learning_python.txt, and\n",
    "replace the word Python with the name of another language, such as C. Print\n",
    "each modified line to the screen."
   ]
  },
  {
   "cell_type": "code",
   "execution_count": 4,
   "metadata": {},
   "outputs": [
    {
     "name": "stdout",
     "output_type": "stream",
     "text": [
      "So far I learned many things in C#.\n",
      "C# is very cool.\n",
      "C# is one of the most popular languages.\n",
      "I love C#.\n"
     ]
    }
   ],
   "source": [
    "with open('learning_python.txt', 'r') as f:\n",
    "    for num in range(4):\n",
    "        line = f.readline()\n",
    "        modifiedLine = line.replace('Python', 'C#')\n",
    "        print(modifiedLine.rstrip())"
   ]
  },
  {
   "cell_type": "markdown",
   "metadata": {},
   "source": [
    "# 10-3."
   ]
  },
  {
   "cell_type": "markdown",
   "metadata": {},
   "source": [
    "Guest: Write a program that prompts the user for their name. When they\n",
    "respond, write their name to a file called guest.txt."
   ]
  },
  {
   "cell_type": "code",
   "execution_count": 5,
   "metadata": {},
   "outputs": [
    {
     "name": "stdout",
     "output_type": "stream",
     "text": [
      "Dear user, enter your name please.Ali Ahmed Khan\n"
     ]
    }
   ],
   "source": [
    "userName = input(\"Dear user, enter your name please.\")\n",
    "with open('guest.txt', 'w') as file:\n",
    "    file.write(userName)"
   ]
  },
  {
   "cell_type": "markdown",
   "metadata": {},
   "source": [
    "# 10-4."
   ]
  },
  {
   "cell_type": "markdown",
   "metadata": {},
   "source": [
    "Guest Book: Write a while loop that prompts users for their name. When\n",
    "they enter their name, print a greeting to the screen and add a line recording\n",
    "their visit in a file called guest_book.txt. Make sure each entry appears on a\n",
    "new line in the file."
   ]
  },
  {
   "cell_type": "code",
   "execution_count": 6,
   "metadata": {},
   "outputs": [
    {
     "name": "stdout",
     "output_type": "stream",
     "text": [
      "Dear user, enter your name please. Press 'Q' if you want to exit:   Siddique Ahmed\n",
      "Dear Siddique Ahmed, you are welcome!\n",
      "Dear user, enter your name please. Press 'Q' if you want to exit:   q\n",
      "Thanks for using our service.\n"
     ]
    }
   ],
   "source": [
    "flag = True\n",
    "while flag:\n",
    "    userName = input(\"Dear user, enter your name please. Press 'Q' if you want to exit:   \")\n",
    "    if userName == 'q' or userName == 'Q':\n",
    "        print(\"Thanks for using our service.\")\n",
    "        flag = False\n",
    "    else:\n",
    "        print(f\"Dear {userName}, you are welcome!\")\n",
    "        with open('guest_book.txt', 'a') as file:\n",
    "            file.write(userName + '\\n')"
   ]
  },
  {
   "cell_type": "markdown",
   "metadata": {},
   "source": [
    "# 10-5."
   ]
  },
  {
   "cell_type": "markdown",
   "metadata": {},
   "source": [
    "Programming Poll: Write a while loop that asks people why they like\n",
    "programming. Each time someone enters a reason, add their reason to a file\n",
    "that stores all the responses."
   ]
  },
  {
   "cell_type": "code",
   "execution_count": 7,
   "metadata": {},
   "outputs": [
    {
     "name": "stdout",
     "output_type": "stream",
     "text": [
      "Dear user, why you like programming? Press 'Q' if you want to exit:   Because I love it.\n",
      "Thanks, your response has been recorded.\n",
      "Dear user, why you like programming? Press 'Q' if you want to exit:   q\n",
      "Thanks for giving us your response.\n"
     ]
    }
   ],
   "source": [
    "flag = True\n",
    "while flag:\n",
    "    userResponse = input(\"Dear user, why you like programming? Press 'Q' if you want to exit:   \")\n",
    "    if userResponse == 'q' or userResponse == 'Q':\n",
    "        print(\"Thanks for giving us your response.\")\n",
    "        flag = False\n",
    "    else:\n",
    "        print(\"Thanks, your response has been recorded.\")\n",
    "        with open('programming_pool.txt', 'a') as file:\n",
    "            file.write(userResponse + '\\n')"
   ]
  },
  {
   "cell_type": "markdown",
   "metadata": {},
   "source": [
    "# 10-6."
   ]
  },
  {
   "cell_type": "markdown",
   "metadata": {},
   "source": [
    "Addition: One common problem when prompting for numerical input\n",
    "occurs when people provide text instead of numbers. When you try to convert\n",
    "the input to an int, you’ll get a ValueError. Write a program that prompts for\n",
    "two numbers. Add them together and print the result. Catch the ValueError if\n",
    "either input value is not a number, and print a friendly error message. Test your\n",
    "program by entering two numbers and then by entering some text instead of a\n",
    "number."
   ]
  },
  {
   "cell_type": "code",
   "execution_count": 8,
   "metadata": {},
   "outputs": [
    {
     "name": "stdout",
     "output_type": "stream",
     "text": [
      "Sum Calculator:.\n",
      "Please Enter Number 1:   f\n",
      "Please provide numbers only!\n"
     ]
    }
   ],
   "source": [
    "print(\"Sum Calculator:.\")\n",
    "try:\n",
    "    num1 = int(input(\"Please Enter Number 1:   \"))\n",
    "    num2 = int(input(\"Please Enter Number 2:   \"))\n",
    "    ans = num1 + num2\n",
    "    print(f\"Sum of {num1} and {num2} is {ans}.\")\n",
    "except ValueError:\n",
    "    print(\"Please provide numbers only!\")"
   ]
  },
  {
   "cell_type": "markdown",
   "metadata": {},
   "source": [
    "# 10-7."
   ]
  },
  {
   "cell_type": "markdown",
   "metadata": {},
   "source": [
    "Addition Calculator: Wrap your code from Exercise 10-6 in a while loop\n",
    "so the user can continue entering numbers even if they make a mistake and\n",
    "enter text instead of a number."
   ]
  },
  {
   "cell_type": "code",
   "execution_count": 9,
   "metadata": {},
   "outputs": [
    {
     "name": "stdout",
     "output_type": "stream",
     "text": [
      "Sum Calculator:.\n",
      "Please Enter Number 1:   d\n",
      "Please provide numbers only!\n",
      "Please Enter Number 1:   54\n",
      "Please Enter Number 2:   55\n",
      "Sum of 54 and 55 is 109.\n",
      "Are you want to continue? (Yes or No)yes\n",
      "Please Enter Number 1:   gg\n",
      "Please provide numbers only!\n",
      "Please Enter Number 1:   98\n",
      "Please Enter Number 2:   5\n",
      "Sum of 98 and 5 is 103.\n",
      "Are you want to continue? (Yes or No)no\n"
     ]
    }
   ],
   "source": [
    "print(\"Sum Calculator:.\")\n",
    "flag = True\n",
    "while flag:\n",
    "    try:\n",
    "        num1 = int(input(\"Please Enter Number 1:   \"))\n",
    "        num2 = int(input(\"Please Enter Number 2:   \"))\n",
    "        ans = num1 + num2\n",
    "        print(f\"Sum of {num1} and {num2} is {ans}.\")\n",
    "        quit = input(\"Are you want to continue? (Yes or No)\").lower()\n",
    "        if quit == 'no':\n",
    "            flag = False\n",
    "    except ValueError:\n",
    "        print(\"Please provide numbers only!\")"
   ]
  },
  {
   "cell_type": "markdown",
   "metadata": {},
   "source": [
    "# 10-8."
   ]
  },
  {
   "cell_type": "markdown",
   "metadata": {},
   "source": [
    "Cats and Dogs: Make two files, cats.txt and dogs.txt. Store at least three\n",
    "names of cats in the first file and three names of dogs in the second file. Write\n",
    "a program that tries to read these files and print the contents of the file to the\n",
    "screen. Wrap your code in a try-except block to catch the FileNotFound error,\n",
    "and print a friendly message if a file is missing. Move one of the files to a different\n",
    "location on your system, and make sure the code in the except block\n",
    "executes properly."
   ]
  },
  {
   "cell_type": "code",
   "execution_count": 19,
   "metadata": {},
   "outputs": [
    {
     "name": "stdout",
     "output_type": "stream",
     "text": [
      "-------------------\n",
      "'cats.txt' content:\n",
      "-------------------\n",
      "The file is missing!\n",
      "-------------------\n",
      "'dogs.txt' content:\n",
      "-------------------\n",
      "Loona\n",
      "Max\n",
      "Cooper\n"
     ]
    }
   ],
   "source": [
    "try:\n",
    "    print(\"-------------------\")\n",
    "    print(\"'cats.txt' content:\")\n",
    "    print(\"-------------------\")\n",
    "    with open('cats.txt', 'r') as file:\n",
    "        content = file.read()\n",
    "        print(content)\n",
    "except FileNotFoundError:\n",
    "    print(\"The file is missing!\")\n",
    "\n",
    "try:\n",
    "    print(\"-------------------\")\n",
    "    print(\"'dogs.txt' content:\")\n",
    "    print(\"-------------------\")\n",
    "    with open('dogs.txt', 'r') as file:\n",
    "        content = file.read()\n",
    "        print(content)\n",
    "except FileNotFoundError:\n",
    "    print(\"The file is missing!\")"
   ]
  },
  {
   "cell_type": "markdown",
   "metadata": {},
   "source": [
    "# 10-9."
   ]
  },
  {
   "cell_type": "markdown",
   "metadata": {},
   "source": [
    "Silent Cats and Dogs: Modify your except block in Exercise 10-8 to fail\n",
    "silently if either file is missing."
   ]
  },
  {
   "cell_type": "code",
   "execution_count": 20,
   "metadata": {},
   "outputs": [
    {
     "name": "stdout",
     "output_type": "stream",
     "text": [
      "-------------------\n",
      "'cats.txt' content:\n",
      "-------------------\n",
      "-------------------\n",
      "'dogs.txt' content:\n",
      "-------------------\n",
      "Loona\n",
      "Max\n",
      "Cooper\n"
     ]
    }
   ],
   "source": [
    "try:\n",
    "    print(\"-------------------\")\n",
    "    print(\"'cats.txt' content:\")\n",
    "    print(\"-------------------\")\n",
    "    with open('cats.txt', 'r') as file:\n",
    "        content = file.read()\n",
    "        print(content)\n",
    "except FileNotFoundError:\n",
    "    pass\n",
    "\n",
    "try:\n",
    "    print(\"-------------------\")\n",
    "    print(\"'dogs.txt' content:\")\n",
    "    print(\"-------------------\")\n",
    "    with open('dogs.txt', 'r') as file:\n",
    "        content = file.read()\n",
    "        print(content)\n",
    "except FileNotFoundError:\n",
    "    pass"
   ]
  },
  {
   "cell_type": "markdown",
   "metadata": {},
   "source": [
    "# 10-10."
   ]
  },
  {
   "cell_type": "markdown",
   "metadata": {},
   "source": [
    "Common Words: Visit Project Gutenberg (https://gutenberg.org/ )\n",
    "and find a few texts you’d like to analyze. Download the text files for these\n",
    "works, or copy the raw text from your browser into a text file on your\n",
    "computer.  \n",
    "You can use the count() method to find out how many times a word or\n",
    "phrase appears in a string. For example, the following code counts the number\n",
    "of times 'row' appears in a string:  \n",
    "line = \"Row, row, row your boat\"  \n",
    "line.count('row')  \n",
    "line.lower().count('row')  \n",
    "Notice that converting the string to lowercase using lower() catches\n",
    "all appearances of the word you’re looking for, regardless of how it’s\n",
    "formatted.  \n",
    "Write a program that reads the files you found at Project Gutenberg and\n",
    "determines how many times the word 'the' appears in each text. This will be\n",
    "an approximation because it will also count words such as 'then' and 'there'.\n",
    "Try counting 'the ', with a space in the string, and see how much lower your\n",
    "count is."
   ]
  },
  {
   "cell_type": "code",
   "execution_count": 22,
   "metadata": {},
   "outputs": [
    {
     "name": "stdout",
     "output_type": "stream",
     "text": [
      "59\n"
     ]
    }
   ],
   "source": [
    "with open(\"world_fact.txt\", \"r\") as file:\n",
    "    fileContent = file.read()\n",
    "    print(fileContent.lower().count(\"the \"))"
   ]
  },
  {
   "cell_type": "code",
   "execution_count": null,
   "metadata": {},
   "outputs": [],
   "source": []
  }
 ],
 "metadata": {
  "kernelspec": {
   "display_name": "Python 3",
   "language": "python",
   "name": "python3"
  },
  "language_info": {
   "codemirror_mode": {
    "name": "ipython",
    "version": 3
   },
   "file_extension": ".py",
   "mimetype": "text/x-python",
   "name": "python",
   "nbconvert_exporter": "python",
   "pygments_lexer": "ipython3",
   "version": "3.8.5"
  }
 },
 "nbformat": 4,
 "nbformat_minor": 4
}
