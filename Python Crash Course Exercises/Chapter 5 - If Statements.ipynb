{
 "cells": [
  {
   "cell_type": "markdown",
   "metadata": {},
   "source": [
    "\n",
    "# Chapter 5 - If Statements"
   ]
  },
  {
   "cell_type": "markdown",
   "metadata": {},
   "source": [
    "# 5-1."
   ]
  },
  {
   "cell_type": "markdown",
   "metadata": {},
   "source": [
    "Conditional Tests: Write a series of conditional tests. Print a statement\n",
    "describing each test and your prediction for the results of each test. Your code\n",
    "should look something like this:  "
   ]
  },
  {
   "cell_type": "raw",
   "metadata": {},
   "source": [
    "car = 'subaru'\n",
    "print(\"Is car == 'subaru'? I predict True.\")\n",
    "print(car == 'subaru')\n",
    "print(\"\\nIs car == 'audi'? I predict False.\")\n",
    "print(car == 'audi')"
   ]
  },
  {
   "cell_type": "markdown",
   "metadata": {},
   "source": [
    "Look closely at your results, and make sure you understand why each line\n",
    "evaluates to True or False.  \n",
    "• Create at least ten tests. Have at least five tests evaluate to True and\n",
    "another five tests evaluate to False."
   ]
  },
  {
   "cell_type": "code",
   "execution_count": 1,
   "metadata": {},
   "outputs": [
    {
     "name": "stdout",
     "output_type": "stream",
     "text": [
      "Is car == 'Civic'? I predict True\n",
      "True\n",
      "Is car == 'Audi'? I predict False\n",
      "False\n"
     ]
    }
   ],
   "source": [
    "car = \"Civic\"\n",
    "print(\"Is car == 'Civic'? I predict True\")\n",
    "print(car == 'Civic')\n",
    "print(\"Is car == 'Audi'? I predict False\")\n",
    "print(car == 'Audi')"
   ]
  },
  {
   "cell_type": "code",
   "execution_count": 4,
   "metadata": {},
   "outputs": [
    {
     "name": "stdout",
     "output_type": "stream",
     "text": [
      "Is nationality == 'Pakistani'? I predict True\n",
      "True\n",
      "Is car == 'Indian'? I predict False\n",
      "False\n"
     ]
    }
   ],
   "source": [
    "nationality = \"Pakistani\"\n",
    "print(\"Is nationality == 'Pakistani'? I predict True\")\n",
    "print(nationality == 'Pakistani')\n",
    "print(\"Is car == 'Indian'? I predict False\")\n",
    "print(nationality == 'Indian')"
   ]
  },
  {
   "cell_type": "code",
   "execution_count": 5,
   "metadata": {},
   "outputs": [
    {
     "name": "stdout",
     "output_type": "stream",
     "text": [
      "Is metal == 'Iron'? I predict True\n",
      "True\n",
      "Is metal == 'Steel'? I predict False\n",
      "False\n"
     ]
    }
   ],
   "source": [
    "metal = \"Iron\"\n",
    "print(\"Is metal == 'Iron'? I predict True\")\n",
    "print(metal == 'Iron')\n",
    "print(\"Is metal == 'Steel'? I predict False\")\n",
    "print(metal == 'Steel')"
   ]
  },
  {
   "cell_type": "code",
   "execution_count": 6,
   "metadata": {},
   "outputs": [
    {
     "name": "stdout",
     "output_type": "stream",
     "text": [
      "Is person == 'Ali'? I predict True\n",
      "True\n",
      "Is person == 'Umair'? I predict False\n",
      "False\n"
     ]
    }
   ],
   "source": [
    "person = \"Ali\"\n",
    "print(\"Is person == 'Ali'? I predict True\")\n",
    "print(person == 'Ali')\n",
    "print(\"Is person == 'Umair'? I predict False\")\n",
    "print(person == 'Umair')"
   ]
  },
  {
   "cell_type": "code",
   "execution_count": 7,
   "metadata": {},
   "outputs": [
    {
     "name": "stdout",
     "output_type": "stream",
     "text": [
      "Is color == 'Red'? I predict True\n",
      "True\n",
      "Is color == 'Yellow'? I predict False\n",
      "False\n"
     ]
    }
   ],
   "source": [
    "color = \"Red\"\n",
    "print(\"Is color == 'Red'? I predict True\")\n",
    "print(color == 'Red')\n",
    "print(\"Is color == 'Yellow'? I predict False\")\n",
    "print(color == 'Yellow')"
   ]
  },
  {
   "cell_type": "code",
   "execution_count": 8,
   "metadata": {},
   "outputs": [
    {
     "name": "stdout",
     "output_type": "stream",
     "text": [
      "Is location == 'Karachi'? I predict True\n",
      "True\n",
      "Is location == 'Lahore'? I predict False\n",
      "False\n"
     ]
    }
   ],
   "source": [
    "location = \"Karachi\"\n",
    "print(\"Is location == 'Karachi'? I predict True\")\n",
    "print(location == 'Karachi')\n",
    "print(\"Is location == 'Lahore'? I predict False\")\n",
    "print(location == 'Lahore')"
   ]
  },
  {
   "cell_type": "markdown",
   "metadata": {},
   "source": [
    "# 5-2."
   ]
  },
  {
   "cell_type": "markdown",
   "metadata": {},
   "source": [
    "More Conditional Tests: You don’t have to limit the number of tests you\n",
    "create to ten. If you want to try more comparisons, write more tests and add\n",
    "them to conditional_tests.py. Have at least one True and one False result for\n",
    "each of the following:  \n",
    "• Tests for equality and inequality with strings  \n",
    "• Tests using the lower() method  \n",
    "• Numerical tests involving equality and inequality, greater than and  \n",
    "less than, greater than or equal to, and less than or equal to  \n",
    "• Tests using the and keyword and the or keyword  \n",
    "• Test whether an item is in a list  \n",
    "• Test whether an item is not in a list  "
   ]
  },
  {
   "cell_type": "markdown",
   "metadata": {},
   "source": [
    "Tests for equality and inequality with strings"
   ]
  },
  {
   "cell_type": "code",
   "execution_count": 9,
   "metadata": {},
   "outputs": [
    {
     "name": "stdout",
     "output_type": "stream",
     "text": [
      "Is name == 'Muhammad Azhar'? I predict True\n",
      "True\n",
      "Is name == 'Ali Hamza'? I predict False\n",
      "False\n"
     ]
    }
   ],
   "source": [
    "name = \"Muhammad Azhar\"\n",
    "print(\"Is name == 'Muhammad Azhar'? I predict True\")\n",
    "print(name == 'Muhammad Azhar')\n",
    "print(\"Is name == 'Ali Hamza'? I predict False\")\n",
    "print(name == 'Ali Hamza')"
   ]
  },
  {
   "cell_type": "markdown",
   "metadata": {},
   "source": [
    "Tests using the lower() method"
   ]
  },
  {
   "cell_type": "code",
   "execution_count": 10,
   "metadata": {},
   "outputs": [
    {
     "name": "stdout",
     "output_type": "stream",
     "text": [
      "Please Enter your friends name:Muhammad Azhar\n",
      "Is userInput == 'Muhammad Azhar'? I predict True\n",
      "True\n",
      "Is userInput == 'Ali Hamza'? I predict False\n",
      "False\n"
     ]
    }
   ],
   "source": [
    "userInput = input(\"Please Enter your friends name:\").lower()\n",
    "print(\"Is userInput == 'Muhammad Azhar'? I predict True\")\n",
    "print(userInput == 'Muhammad Azhar'.lower())\n",
    "print(\"Is userInput == 'Ali Hamza'? I predict False\")\n",
    "print(userInput == 'Ali Hamza'.lower())"
   ]
  },
  {
   "cell_type": "markdown",
   "metadata": {},
   "source": [
    "Numerical tests involving equality and inequality, greater than and\n",
    "less than, greater than or equal to, and less than or equal to"
   ]
  },
  {
   "cell_type": "code",
   "execution_count": 11,
   "metadata": {},
   "outputs": [
    {
     "name": "stdout",
     "output_type": "stream",
     "text": [
      "Enter any Number:7\n",
      "Is num == '7'? I predict True\n",
      "True\n",
      "Is num == '87'? I predict False\n",
      "False\n"
     ]
    }
   ],
   "source": [
    "num = int(input(\"Enter any Number:\"))\n",
    "print(\"Is num == '7'? I predict True\")\n",
    "print(num == 7)\n",
    "print(\"Is num == '87'? I predict False\")\n",
    "print(num == 87)"
   ]
  },
  {
   "cell_type": "code",
   "execution_count": 12,
   "metadata": {},
   "outputs": [
    {
     "name": "stdout",
     "output_type": "stream",
     "text": [
      "Enter any Number:87\n",
      "Is num != '7'? I predict True\n",
      "True\n",
      "Is num != '87'? I predict False\n",
      "False\n"
     ]
    }
   ],
   "source": [
    "num = int(input(\"Enter any Number:\"))\n",
    "print(\"Is num != '7'? I predict True\")\n",
    "print(num != 7)\n",
    "print(\"Is num != '87'? I predict False\")\n",
    "print(num != 87)"
   ]
  },
  {
   "cell_type": "code",
   "execution_count": 13,
   "metadata": {},
   "outputs": [
    {
     "name": "stdout",
     "output_type": "stream",
     "text": [
      "Enter any Number:8\n",
      "Is num > '7'? I predict True\n",
      "True\n",
      "Is num < '7'? I predict False\n",
      "False\n"
     ]
    }
   ],
   "source": [
    "num = int(input(\"Enter any Number:\"))\n",
    "print(\"Is num > '7'? I predict True\")\n",
    "print(num > 7)\n",
    "print(\"Is num < '7'? I predict False\")\n",
    "print(num < 7)"
   ]
  },
  {
   "cell_type": "code",
   "execution_count": 14,
   "metadata": {},
   "outputs": [
    {
     "name": "stdout",
     "output_type": "stream",
     "text": [
      "Enter any Number:4\n",
      "Is num >= '7'? I predict True\n",
      "False\n",
      "Is num <='7'? I predict False\n",
      "True\n"
     ]
    }
   ],
   "source": [
    "num = int(input(\"Enter any Number:\"))\n",
    "print(\"Is num >= '7'? I predict True\")\n",
    "print(num >= 7)\n",
    "print(\"Is num <='7'? I predict False\")\n",
    "print(num <= 7)"
   ]
  },
  {
   "cell_type": "markdown",
   "metadata": {},
   "source": [
    "Tests using the and keyword and the or keyword"
   ]
  },
  {
   "cell_type": "code",
   "execution_count": 15,
   "metadata": {},
   "outputs": [
    {
     "name": "stdout",
     "output_type": "stream",
     "text": [
      "Enter any Number:43\n",
      "Is num >= '7' and <= '70'? I predict True\n",
      "True\n",
      "Is num >'70' and < 100? I predict False\n",
      "False\n"
     ]
    }
   ],
   "source": [
    "num = int(input(\"Enter any Number:\"))\n",
    "print(\"Is num >= '7' and <= '70'? I predict True\")\n",
    "print(num >= 7 and num <= 70)\n",
    "print(\"Is num >'70' and < 100? I predict False\")\n",
    "print(num > 70 and num < 100)"
   ]
  },
  {
   "cell_type": "code",
   "execution_count": 16,
   "metadata": {},
   "outputs": [
    {
     "name": "stdout",
     "output_type": "stream",
     "text": [
      "Enter any Number:102\n",
      "Is num >= '7' or <= '70'? I predict True\n",
      "True\n",
      "Is num >'70' or < 100? I predict False\n",
      "True\n"
     ]
    }
   ],
   "source": [
    "num = int(input(\"Enter any Number:\"))\n",
    "print(\"Is num >= '7' or <= '70'? I predict True\")\n",
    "print(num >= 7 or num <= 70)\n",
    "print(\"Is num >'70' or < 100? I predict False\")\n",
    "print(num > 70 or num < 100)"
   ]
  },
  {
   "cell_type": "markdown",
   "metadata": {},
   "source": [
    "Test whether an item is in a list"
   ]
  },
  {
   "cell_type": "code",
   "execution_count": 17,
   "metadata": {},
   "outputs": [
    {
     "name": "stdout",
     "output_type": "stream",
     "text": [
      "Is USB is in devices? I predict True.\n",
      "True\n",
      "Is PC is in devices? I predict False.\n",
      "False\n"
     ]
    }
   ],
   "source": [
    "devices = [\"Laptop\", \"Router\", \"USB\", \"MP3\", \"Light Pen\"]\n",
    "print(\"Is USB is in devices? I predict True.\")\n",
    "print('USB' in devices)\n",
    "print(\"Is PC is in devices? I predict False.\")\n",
    "print('PC' in devices)"
   ]
  },
  {
   "cell_type": "markdown",
   "metadata": {},
   "source": [
    "Test whether an item is not in a list"
   ]
  },
  {
   "cell_type": "code",
   "execution_count": 20,
   "metadata": {},
   "outputs": [
    {
     "name": "stdout",
     "output_type": "stream",
     "text": [
      "Is USB is not in devices? I predict False.\n",
      "False\n",
      "Is PC is not in devices? I predict True.\n",
      "True\n"
     ]
    }
   ],
   "source": [
    "devices = [\"Laptop\", \"Router\", \"USB\", \"MP3\", \"Light Pen\"]\n",
    "print(\"Is USB is not in devices? I predict False.\")\n",
    "print('USB' not in devices)\n",
    "print(\"Is PC is not in devices? I predict True.\")\n",
    "print('PC' not in devices)"
   ]
  },
  {
   "cell_type": "markdown",
   "metadata": {},
   "source": [
    "# 5-3."
   ]
  },
  {
   "cell_type": "markdown",
   "metadata": {},
   "source": [
    "Alien Colors #1: Imagine an alien was just shot down in a game. Create a\n",
    "variable called alien_color and assign it a value of 'green', 'yellow', or 'red'.  \n",
    "• Write an if statement to test whether the alien’s color is green. If it is, print a message that the player just earned 5 points.  \n",
    "• Write one version of this program that passes the if test and another that\n",
    "fails. (The version that fails will have no output.)"
   ]
  },
  {
   "cell_type": "code",
   "execution_count": 25,
   "metadata": {},
   "outputs": [
    {
     "name": "stdout",
     "output_type": "stream",
     "text": [
      "You just earned 5 points.\n"
     ]
    }
   ],
   "source": [
    "alien_color = 'green'\n",
    "if alien_color == 'green':\n",
    "    print(\"You just earned 5 points.\")"
   ]
  },
  {
   "cell_type": "code",
   "execution_count": 32,
   "metadata": {},
   "outputs": [
    {
     "name": "stdout",
     "output_type": "stream",
     "text": [
      "You just earned 5 points.\n"
     ]
    }
   ],
   "source": [
    "alien_color = 'green'\n",
    "if alien_color == 'green':\n",
    "    print(\"You just earned 5 points.\")\n",
    "else:\n",
    "    pass"
   ]
  },
  {
   "cell_type": "markdown",
   "metadata": {},
   "source": [
    "# 5-4."
   ]
  },
  {
   "cell_type": "markdown",
   "metadata": {},
   "source": [
    "Alien Colors #2: Choose a color for an alien as you did in Exercise 5-3, and\n",
    "write an if-else chain.  \n",
    "• If the alien’s color is green, print a statement that the player just earned\n",
    "5 points for shooting the alien.  \n",
    "• If the alien’s color isn’t green, print a statement that the player just earned\n",
    "10 points.  \n",
    "• Write one version of this program that runs the if block and another that\n",
    "runs the else block."
   ]
  },
  {
   "cell_type": "code",
   "execution_count": 29,
   "metadata": {},
   "outputs": [
    {
     "name": "stdout",
     "output_type": "stream",
     "text": [
      "You just earned 5 points for shooting the alien.\n"
     ]
    }
   ],
   "source": [
    "alien_color = 'green'\n",
    "if alien_color == 'green':\n",
    "    print(\"You just earned 5 points for shooting the alien.\")\n",
    "else:\n",
    "    print(\"You just earned 10 points.\")"
   ]
  },
  {
   "cell_type": "code",
   "execution_count": 30,
   "metadata": {},
   "outputs": [
    {
     "name": "stdout",
     "output_type": "stream",
     "text": [
      "You just earned 10 points.\n"
     ]
    }
   ],
   "source": [
    "alien_color = 'yellow'\n",
    "if alien_color == 'red':\n",
    "    print(\"You just earned 55 points for shooting the 'Red' Dangerous alien.\")\n",
    "else:\n",
    "    print(\"You just earned 10 points.\")"
   ]
  },
  {
   "cell_type": "markdown",
   "metadata": {},
   "source": [
    "# 5-5."
   ]
  },
  {
   "cell_type": "markdown",
   "metadata": {},
   "source": [
    "Alien Colors #3: Turn your if-else chain from Exercise 5-4 into an if-elifelse\n",
    "chain.  \n",
    "• If the alien is green, print a message that the player earned 5 points.  \n",
    "• If the alien is yellow, print a message that the player earned 10 points.  \n",
    "• If the alien is red, print a message that the player earned 15 points.  \n",
    "• Write three versions of this program, making sure each message is printed\n",
    "for the appropriate color alien."
   ]
  },
  {
   "cell_type": "code",
   "execution_count": 33,
   "metadata": {},
   "outputs": [
    {
     "name": "stdout",
     "output_type": "stream",
     "text": [
      "You earned 5 points.\n"
     ]
    }
   ],
   "source": [
    "alien_color = 'green'\n",
    "if alien_color == 'green':\n",
    "    print(\"You earned 5 points.\")\n",
    "elif alien_color == 'yellow':\n",
    "    print(\"You earned 10 points.\")\n",
    "elif alien_color == 'red':\n",
    "    print(\"You earned 15 points.\")"
   ]
  },
  {
   "cell_type": "code",
   "execution_count": 34,
   "metadata": {},
   "outputs": [
    {
     "name": "stdout",
     "output_type": "stream",
     "text": [
      "You earned 10 points.\n"
     ]
    }
   ],
   "source": [
    "alien_color = 'yellow'\n",
    "if alien_color == 'green':\n",
    "    print(\"You earned 5 points.\")\n",
    "elif alien_color == 'yellow':\n",
    "    print(\"You earned 10 points.\")\n",
    "elif alien_color == 'red':\n",
    "    print(\"You earned 15 points.\")"
   ]
  },
  {
   "cell_type": "code",
   "execution_count": 35,
   "metadata": {},
   "outputs": [
    {
     "name": "stdout",
     "output_type": "stream",
     "text": [
      "You earned 15 points.\n"
     ]
    }
   ],
   "source": [
    "alien_color = 'red'\n",
    "if alien_color == 'green':\n",
    "    print(\"You earned 5 points.\")\n",
    "elif alien_color == 'yellow':\n",
    "    print(\"You earned 10 points.\")\n",
    "elif alien_color == 'red':\n",
    "    print(\"You earned 15 points.\")"
   ]
  },
  {
   "cell_type": "markdown",
   "metadata": {},
   "source": [
    "# 5-6."
   ]
  },
  {
   "cell_type": "markdown",
   "metadata": {},
   "source": [
    "Stages of Life: Write an if-elif-else chain that determines a person’s\n",
    "stage of life. Set a value for the variable age, and then:  \n",
    "• If the person is less than 2 years old, print a message that the person is\n",
    "a baby.  \n",
    "• If the person is at least 2 years old but less than 4, print a message that\n",
    "the person is a toddler.  \n",
    "• If the person is at least 4 years old but less than 13, print a message that\n",
    "the person is a kid.  \n",
    "• If the person is at least 13 years old but less than 20, print a message that\n",
    "the person is a teenager.  \n",
    "• If the person is at least 20 years old but less than 65, print a message that\n",
    "the person is an adult.  \n",
    "• If the person is age 65 or older, print a message that the person is an\n",
    "elder."
   ]
  },
  {
   "cell_type": "code",
   "execution_count": 40,
   "metadata": {},
   "outputs": [
    {
     "name": "stdout",
     "output_type": "stream",
     "text": [
      "You are a teenager.\n"
     ]
    }
   ],
   "source": [
    "age = 16\n",
    "if age < 2:\n",
    "    print(\"You are a baby.\")\n",
    "elif age >= 2 and age < 4:\n",
    "    print(\"You are a toddler.\")\n",
    "elif age >= 4 and age < 13:\n",
    "    print(\"You are a kid.\")\n",
    "elif age >= 13 and age < 20:\n",
    "    print(\"You are a teenager.\")\n",
    "elif age >= 20 and age < 65:\n",
    "    print(\"You are an adult.\")\n",
    "elif age >= 65:\n",
    "    print(\"You are an elder.\")"
   ]
  },
  {
   "cell_type": "markdown",
   "metadata": {},
   "source": [
    "# 5-7."
   ]
  },
  {
   "cell_type": "markdown",
   "metadata": {},
   "source": [
    "5-7. Favorite Fruit: Make a list of your favorite fruits, and then write a series of independent if statements that check for certain fruits in your list.   \n",
    "• Make a list of your three favorite fruits and call it favorite_fruits.  \n",
    "• Write five if statements. Each should check whether a certain kind of fruit\n",
    "is in your list. If the fruit is in your list, the if block should print a statement, such as You really like bananas!"
   ]
  },
  {
   "cell_type": "code",
   "execution_count": 4,
   "metadata": {},
   "outputs": [
    {
     "name": "stdout",
     "output_type": "stream",
     "text": [
      "Yes, Biryani is in your favorite foods.\n",
      "Yes, Nihari is in your favorite foods.\n"
     ]
    }
   ],
   "source": [
    "favorite_foods = [\"Biryani\", \"Paya\", \"Nihari\", \"White Karahi\", \"Shahi Karahi\"]\n",
    "if 'Qourma' in favorite_foods:\n",
    "    print(\"Yes, Qaurma is in your favorite foods.\")\n",
    "if 'Biryani' in favorite_foods:\n",
    "    print(\"Yes, Biryani is in your favorite foods.\")\n",
    "if 'Nihari' in favorite_foods:\n",
    "    print(\"Yes, Nihari is in your favorite foods.\")"
   ]
  },
  {
   "cell_type": "code",
   "execution_count": 5,
   "metadata": {},
   "outputs": [
    {
     "name": "stdout",
     "output_type": "stream",
     "text": [
      "Yes, you really like Mangoes!\n",
      "Yes, you really like Bananas!\n",
      "Yes, you really like Apples!\n"
     ]
    }
   ],
   "source": [
    "favorite_fruits = [\"Mango\", \"Banana\", \"Apple\"]\n",
    "if 'Mango' in favorite_fruits:\n",
    "    print(\"Yes, you really like Mangoes!\")\n",
    "if 'Pineapple' in favorite_fruits:\n",
    "    print(\"Yes, you really like Pineapples!\")\n",
    "if 'Banana' in favorite_fruits:\n",
    "    print(\"Yes, you really like Bananas!\")\n",
    "if 'Cherry' in favorite_fruits:\n",
    "    print(\"Yes, you really like Cherries!\")\n",
    "if 'Apple' in favorite_fruits:\n",
    "    print(\"Yes, you really like Apples!\")"
   ]
  },
  {
   "cell_type": "markdown",
   "metadata": {},
   "source": [
    "# 5-8."
   ]
  },
  {
   "cell_type": "markdown",
   "metadata": {},
   "source": [
    "Hello Admin: Make a list of five or more usernames, including the name\n",
    "'admin'. Imagine you are writing code that will print a greeting to each user\n",
    "after they log in to a website. Loop through the list, and print a greeting to\n",
    "each user:  \n",
    "• If the username is 'admin', print a special greeting, such as Hello admin,\n",
    "would you like to see a status report?  \n",
    "• Otherwise, print a generic greeting, such as Hello Jaden, thank you for\n",
    "logging in again."
   ]
  },
  {
   "cell_type": "code",
   "execution_count": 2,
   "metadata": {},
   "outputs": [
    {
     "name": "stdout",
     "output_type": "stream",
     "text": [
      "Hello admin, would you like to see a status report?\n",
      "Hello aliahmed, thank you for logging in again.\n",
      "Hello muhammadazhar, thank you for logging in again.\n",
      "Hello shahbazkhan, thank you for logging in again.\n",
      "Hello taimoor, thank you for logging in again.\n"
     ]
    }
   ],
   "source": [
    "users = ['admin','aliahmed','muhammadazhar','shahbazkhan','taimoor']\n",
    "for user in users:\n",
    "    if user == 'admin':\n",
    "        print(\"Hello admin, would you like to see a status report?\")\n",
    "    else:\n",
    "        print(f\"Hello {user}, thank you for logging in again.\")"
   ]
  },
  {
   "cell_type": "markdown",
   "metadata": {},
   "source": [
    "# 5-9."
   ]
  },
  {
   "cell_type": "markdown",
   "metadata": {},
   "source": [
    "No Users: Add an if test to hello_admin.py to make sure the list of users is\n",
    "not empty.  \n",
    "• If the list is empty, print the message We need to find some users!  \n",
    "• Remove all of the usernames from your list, and make sure the correct\n",
    "message is printed."
   ]
  },
  {
   "cell_type": "code",
   "execution_count": 3,
   "metadata": {},
   "outputs": [],
   "source": [
    "if users:\n",
    "    pass\n",
    "else:\n",
    "    print(\"We need to find some users!\")"
   ]
  },
  {
   "cell_type": "code",
   "execution_count": 4,
   "metadata": {},
   "outputs": [],
   "source": [
    "while users:\n",
    "    users.pop()"
   ]
  },
  {
   "cell_type": "code",
   "execution_count": 5,
   "metadata": {},
   "outputs": [
    {
     "name": "stdout",
     "output_type": "stream",
     "text": [
      "We need to find some users!\n"
     ]
    }
   ],
   "source": [
    "if users:\n",
    "    pass\n",
    "else:\n",
    "    print(\"We need to find some users!\")"
   ]
  },
  {
   "cell_type": "markdown",
   "metadata": {},
   "source": [
    "# 5-10."
   ]
  },
  {
   "cell_type": "markdown",
   "metadata": {},
   "source": [
    "Checking Usernames: Do the following to create a program that simulates\n",
    "how websites ensure that everyone has a unique username.  \n",
    "• Make a list of five or more usernames called current_users.  \n",
    "• Make another list of five usernames called new_users. Make sure one or\n",
    "two of the new usernames are also in the current_users list.  \n",
    "• Loop through the new_users list to see if each new username has already\n",
    "been used. If it has, print a message that the person will need to enter a\n",
    "new username. If a username has not been used, print a message saying\n",
    "that the username is available.  \n",
    "• Make sure your comparison is case insensitive. If 'John' has been used,\n",
    "'JOHN' should not be accepted. (To do this, you’ll need to make a copy of\n",
    "current_users containing the lowercase versions of all existing users.)"
   ]
  },
  {
   "cell_type": "code",
   "execution_count": 16,
   "metadata": {},
   "outputs": [
    {
     "name": "stdout",
     "output_type": "stream",
     "text": [
      "Username is available.\n",
      "Username already exists, please enter a new username.\n",
      "Username is available.\n",
      "Username is available.\n",
      "Username already exists, please enter a new username.\n"
     ]
    }
   ],
   "source": [
    "current_users = [\"abubakar\",\"nabeel\",\"shakir\",\"azhar\",\"faisal\"]\n",
    "current_users_copy = []\n",
    "for user in current_users:\n",
    "    current_users_copy.append(user.title())\n",
    "new_users = [\"saim\",\"azhar\",\"zohaib\",\"suleman\",\"shakir\"]\n",
    "new_user = 0\n",
    "for newUser in new_users:\n",
    "    for currentUser in current_users_copy:\n",
    "        if newUser.title() == currentUser:\n",
    "            new_user += 1\n",
    "    if new_user == 1:\n",
    "        print(\"Username already exists, please enter a new username.\")\n",
    "    else:\n",
    "        print(\"Username is available.\")\n",
    "    new_user = 0"
   ]
  },
  {
   "cell_type": "markdown",
   "metadata": {},
   "source": [
    "# 5-11."
   ]
  },
  {
   "cell_type": "markdown",
   "metadata": {},
   "source": [
    "Ordinal Numbers: Ordinal numbers indicate their position in a list, such\n",
    "as 1st or 2nd. Most ordinal numbers end in th, except 1, 2, and 3.  \n",
    "• Store the numbers 1 through 9 in a list.  \n",
    "• Loop through the list.  \n",
    "• Use an if-elif-else chain inside the loop to print the proper ordinal ending\n",
    "for each number. Your output should read \"1st 2nd 3rd 4th 5th 6th\n",
    "7th 8th 9th\", and each result should be on a separate line."
   ]
  },
  {
   "cell_type": "code",
   "execution_count": 20,
   "metadata": {},
   "outputs": [
    {
     "name": "stdout",
     "output_type": "stream",
     "text": [
      "1st\n",
      "2nd\n",
      "3rd\n",
      "4th\n",
      "5th\n",
      "6th\n",
      "7th\n",
      "8th\n",
      "9th\n"
     ]
    }
   ],
   "source": [
    "numbers = [n for n in range(1,10)]\n",
    "ordinalNumbers = []\n",
    "for number in numbers:\n",
    "    if number == 1:\n",
    "        ordinalNumbers.append(str(number)+\"st\")\n",
    "    elif number == 2:\n",
    "        ordinalNumbers.append(str(number)+\"nd\")\n",
    "    elif number == 3:\n",
    "        ordinalNumbers.append(str(number)+\"rd\")\n",
    "    else:\n",
    "        ordinalNumbers.append(str(number)+\"th\")\n",
    "for nums in ordinalNumbers:\n",
    "    print(nums)"
   ]
  },
  {
   "cell_type": "markdown",
   "metadata": {},
   "source": [
    "# 5-12."
   ]
  },
  {
   "cell_type": "markdown",
   "metadata": {},
   "source": [
    "Styling if statements: Review the programs you wrote in this chapter, and\n",
    "make sure you styled your conditional tests appropriately."
   ]
  },
  {
   "cell_type": "code",
   "execution_count": 21,
   "metadata": {},
   "outputs": [],
   "source": [
    "#Done"
   ]
  },
  {
   "cell_type": "markdown",
   "metadata": {},
   "source": [
    "# 5-13."
   ]
  },
  {
   "cell_type": "markdown",
   "metadata": {},
   "source": [
    "Your Ideas: At this point, you’re a more capable programmer than you\n",
    "were when you started this book. Now that you have a better sense of how\n",
    "real-world situations are modeled in programs, you might be thinking of some\n",
    "problems you could solve with your own programs. Record any new ideas you\n",
    "have about problems you might want to solve as your programming skills continue\n",
    "to improve. Consider games you might want to write, data sets you might\n",
    "want to explore, and web applications you’d like to create."
   ]
  },
  {
   "cell_type": "code",
   "execution_count": 22,
   "metadata": {},
   "outputs": [],
   "source": [
    "#School Management System\n",
    "#There are many application I will try to code."
   ]
  },
  {
   "cell_type": "code",
   "execution_count": null,
   "metadata": {},
   "outputs": [],
   "source": []
  }
 ],
 "metadata": {
  "kernelspec": {
   "display_name": "Python 3",
   "language": "python",
   "name": "python3"
  },
  "language_info": {
   "codemirror_mode": {
    "name": "ipython",
    "version": 3
   },
   "file_extension": ".py",
   "mimetype": "text/x-python",
   "name": "python",
   "nbconvert_exporter": "python",
   "pygments_lexer": "ipython3",
   "version": "3.7.6"
  }
 },
 "nbformat": 4,
 "nbformat_minor": 4
}
