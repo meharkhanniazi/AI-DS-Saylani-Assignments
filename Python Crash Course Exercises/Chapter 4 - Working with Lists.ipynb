{
 "cells": [
  {
   "cell_type": "markdown",
   "metadata": {},
   "source": [
    "# Chapter 4 - Working with Lists"
   ]
  },
  {
   "cell_type": "markdown",
   "metadata": {},
   "source": [
    "4-1. Pizzas: Think of at least three kinds of your favorite pizza. Store these\n",
    "pizza names in a list, and then use a for loop to print the name of each pizza.  \n",
    "• Modify your for loop to print a sentence using the name of the pizza\n",
    "instead of printing just the name of the pizza. For each pizza you should\n",
    "have one line of output containing a simple statement like I like pepperoni\n",
    "pizza.  \n",
    "• Add a line at the end of your program, outside the for loop, that states\n",
    "how much you like pizza. The output should consist of three or more lines\n",
    "about the kinds of pizza you like and then an additional sentence, such as\n",
    "I really love pizza!"
   ]
  },
  {
   "cell_type": "code",
   "execution_count": 13,
   "metadata": {},
   "outputs": [
    {
     "name": "stdout",
     "output_type": "stream",
     "text": [
      "Chili Peper Pizza\n",
      "Kebab Pizza\n",
      "Mushrooms Pizza\n",
      "The Chili Peper Pizza is delicious!\n",
      "The Kebab Pizza is delicious!\n",
      "The Mushrooms Pizza is delicious!\n",
      "\n",
      "    All the pizzas are delicious but, the Kebab Pizza is just amazing!\n",
      "    I like all pizzas but the Kebab Pizza is my favourite.\n",
      "    I hope you all will like it. Just taste it once!\n",
      "\n"
     ]
    }
   ],
   "source": [
    "pizzas = [\"Chili Peper Pizza\", \"Kebab Pizza\", \"Mushrooms Pizza\"]\n",
    "for pizza in pizzas:\n",
    "    print(pizza)\n",
    "for pizza in pizzas:\n",
    "    print(\"The {} is delicious!\".format(pizza))\n",
    "print('''\n",
    "    All the pizzas are delicious but, the Kebab Pizza is just amazing!\n",
    "    I like all pizzas but the Kebab Pizza is my favourite.\n",
    "    I hope you all will like it. Just taste it once!\n",
    "''')"
   ]
  },
  {
   "cell_type": "markdown",
   "metadata": {},
   "source": [
    "4-2. Animals: Think of at least three different animals that have a common characteristic.  \n",
    "Store the names of these animals in a list, and then use a for loop to\n",
    "print out the name of each animal.  \n",
    "• Modify your program to print a statement about each animal, such as\n",
    "A dog would make a great pet.  \n",
    "• Add a line at the end of your program stating what these animals have in\n",
    "common. You could print a sentence such as Any of these animals would\n",
    "make a great pet!  "
   ]
  },
  {
   "cell_type": "code",
   "execution_count": 14,
   "metadata": {},
   "outputs": [
    {
     "name": "stdout",
     "output_type": "stream",
     "text": [
      "Cow\n",
      "Goat\n",
      "Camel\n",
      "Cow is a beautiful animal.\n",
      "Goat is a beautiful animal.\n",
      "Camel is a beautiful animal.\n",
      "All these animals are 'Halal Animals'.\n"
     ]
    }
   ],
   "source": [
    "animals = [\"Cow\", \"Goat\", \"Camel\"]\n",
    "for animal in animals:\n",
    "    print(animal)\n",
    "for animal in animals:\n",
    "    print(f\"{animal} is a beautiful animal.\")\n",
    "print(\"All these animals are 'Halal Animals'.\")"
   ]
  },
  {
   "cell_type": "markdown",
   "metadata": {},
   "source": [
    "4-3. Counting to Twenty: Use a for loop to print the numbers from 1 to 20,\n",
    "inclusive."
   ]
  },
  {
   "cell_type": "code",
   "execution_count": 15,
   "metadata": {},
   "outputs": [
    {
     "name": "stdout",
     "output_type": "stream",
     "text": [
      "[1, 2, 3, 4, 5, 6, 7, 8, 9, 10, 11, 12, 13, 14, 15, 16, 17, 18, 19, 20]\n"
     ]
    }
   ],
   "source": [
    "twentyNumbers = []\n",
    "for num in range(1,21):\n",
    "    twentyNumbers.append(num)\n",
    "print(twentyNumbers)"
   ]
  },
  {
   "cell_type": "markdown",
   "metadata": {},
   "source": [
    "4-4. One Million: Make a list of the numbers from one to one million, and then\n",
    "use a for loop to print the numbers. (If the output is taking too long, stop it by\n",
    "pressing ctrl-C or by closing the output window.)"
   ]
  },
  {
   "cell_type": "code",
   "execution_count": 16,
   "metadata": {},
   "outputs": [
    {
     "name": "stderr",
     "output_type": "stream",
     "text": [
      "IOPub data rate exceeded.\n",
      "The notebook server will temporarily stop sending output\n",
      "to the client in order to avoid crashing it.\n",
      "To change this limit, set the config variable\n",
      "`--NotebookApp.iopub_data_rate_limit`.\n",
      "\n",
      "Current values:\n",
      "NotebookApp.iopub_data_rate_limit=1000000.0 (bytes/sec)\n",
      "NotebookApp.rate_limit_window=3.0 (secs)\n",
      "\n"
     ]
    }
   ],
   "source": [
    "millionNumbers = []\n",
    "for num in range(1,1000001):\n",
    "    millionNumbers.append(num)\n",
    "print(millionNumbers)"
   ]
  },
  {
   "cell_type": "markdown",
   "metadata": {},
   "source": [
    "4-5. Summing a Million: Make a list of the numbers from one to one million,\n",
    "and then use min() and max() to make sure your list actually starts at one and\n",
    "ends at one million. Also, use the sum() function to see how quickly Python can\n",
    "add a million numbers."
   ]
  },
  {
   "cell_type": "code",
   "execution_count": 17,
   "metadata": {},
   "outputs": [
    {
     "name": "stdout",
     "output_type": "stream",
     "text": [
      "1\n",
      "1000000\n",
      "500000500000\n"
     ]
    }
   ],
   "source": [
    "oneMillionNumbers = []\n",
    "for num in range(1,1000001):\n",
    "    oneMillionNumbers.append(num)\n",
    "print(min(oneMillionNumbers))\n",
    "print(max(oneMillionNumbers))\n",
    "print(sum(oneMillionNumbers))"
   ]
  },
  {
   "cell_type": "markdown",
   "metadata": {},
   "source": [
    "4-6. Odd Numbers: Use the third argument of the range() function to make a\n",
    "list of the odd numbers from 1 to 20. Use a for loop to print each number."
   ]
  },
  {
   "cell_type": "code",
   "execution_count": 18,
   "metadata": {},
   "outputs": [
    {
     "name": "stdout",
     "output_type": "stream",
     "text": [
      "[1, 3, 5, 7, 9, 11, 13, 15, 17, 19]\n"
     ]
    }
   ],
   "source": [
    "odd = []\n",
    "for num in range(1,20,2):\n",
    "    odd.append(num)\n",
    "print(odd)"
   ]
  },
  {
   "cell_type": "markdown",
   "metadata": {},
   "source": [
    "4-7. Threes: Make a list of the multiples of 3 from 3 to 30. Use a for loop to\n",
    "print the numbers in your list."
   ]
  },
  {
   "cell_type": "code",
   "execution_count": 19,
   "metadata": {},
   "outputs": [
    {
     "name": "stdout",
     "output_type": "stream",
     "text": [
      "[3, 6, 9, 12, 15, 18, 21, 24, 27, 30]\n"
     ]
    }
   ],
   "source": [
    "multiplesOfThree = []\n",
    "for multiples in range(3,31,3):\n",
    "    multiplesOfThree.append(multiples)\n",
    "print(multiplesOfThree)"
   ]
  },
  {
   "cell_type": "markdown",
   "metadata": {},
   "source": [
    "4-8. Cubes: A number raised to the third power is called a cube. For example,\n",
    "the cube of 2 is written as 2**3 in Python. Make a list of the first 10 cubes (that\n",
    "is, the cube of each integer from 1 through 10), and use a for loop to print out\n",
    "the value of each cube."
   ]
  },
  {
   "cell_type": "code",
   "execution_count": 20,
   "metadata": {},
   "outputs": [
    {
     "name": "stdout",
     "output_type": "stream",
     "text": [
      "Cube of 1 is 1\n",
      "Cube of 2 is 8\n",
      "Cube of 3 is 27\n",
      "Cube of 4 is 64\n",
      "Cube of 5 is 125\n",
      "Cube of 6 is 216\n",
      "Cube of 7 is 343\n",
      "Cube of 8 is 512\n",
      "Cube of 9 is 729\n",
      "Cube of 10 is 1000\n"
     ]
    }
   ],
   "source": [
    "cubes = []\n",
    "for integer in range(1,11):\n",
    "    cubes.append(integer**3)\n",
    "for num in range(0,10):\n",
    "    print(f\"Cube of {num+1} is {cubes[num]}\")"
   ]
  },
  {
   "cell_type": "markdown",
   "metadata": {},
   "source": [
    "4-9. Cube Comprehension: Use a list comprehension to generate a list of the\n",
    "first 10 cubes."
   ]
  },
  {
   "cell_type": "code",
   "execution_count": 21,
   "metadata": {},
   "outputs": [
    {
     "name": "stdout",
     "output_type": "stream",
     "text": [
      "[1, 8, 27, 64, 125, 216, 343, 512, 729, 1000]\n"
     ]
    }
   ],
   "source": [
    "cubeComprehension = [num**3 for num in range(1,11)]\n",
    "print(cubeComprehension)"
   ]
  },
  {
   "cell_type": "markdown",
   "metadata": {},
   "source": [
    "4-10. Slices: Using one of the programs you wrote in this chapter, add several\n",
    "lines to the end of the program that do the following:  \n",
    "• Print the message The first three items in the list are:. Then use a slice to\n",
    "print the first three items from that program’s list.  \n",
    "• Print the message Three items from the middle of the list are:. Use a slice to\n",
    "print three items from the middle of the list.  \n",
    "• Print the message The last three items in the list are:. Use a slice to print the\n",
    "last three items in the list."
   ]
  },
  {
   "cell_type": "code",
   "execution_count": 22,
   "metadata": {},
   "outputs": [
    {
     "name": "stdout",
     "output_type": "stream",
     "text": [
      "First three odd numbers are [1, 3, 5]\n",
      "Middle three odd numbers between 1-19 are [9, 11, 13]\n",
      "Last three odd numbers between 1-19 are [15, 17, 19]\n"
     ]
    }
   ],
   "source": [
    "print(f\"First three odd numbers are {odd[0:3]}\")\n",
    "print(f\"Middle three odd numbers between 1-19 are {odd[4:7]}\")\n",
    "print(f\"Last three odd numbers between 1-19 are {odd[-3:]}\")"
   ]
  },
  {
   "cell_type": "markdown",
   "metadata": {},
   "source": [
    "4-11. My Pizzas, Your Pizzas: Start with your program from Exercise 4-1\n",
    "(page 56). Make a copy of the list of pizzas, and call it friend_pizzas.\n",
    "Then, do the following:  \n",
    "• Add a new pizza to the original list.  \n",
    "• Add a different pizza to the list friend_pizzas.  \n",
    "• Prove that you have two separate lists. Print the message My favorite\n",
    "pizzas are:, and then use a for loop to print the first list. Print the message\n",
    "My friend’s favorite pizzas are:, and then use a for loop to print the second\n",
    "list. Make sure each new pizza is stored in the appropriate list."
   ]
  },
  {
   "cell_type": "code",
   "execution_count": 28,
   "metadata": {},
   "outputs": [
    {
     "name": "stdout",
     "output_type": "stream",
     "text": [
      "My favourite pizzas are:  Chili Peper Pizza, Kebab Pizza, Mushrooms Pizza, Wood-Fired Artisan Pizza, Wood-Fired Artisan Pizza, Wood-Fired Artisan Pizza, Wood-Fired Artisan Pizza, \n",
      "My friend's favourite pizzas are: Chili Peper Pizza, Kebab Pizza, Mushrooms Pizza, Wood-Fired Artisan Pizza, Wood-Fired Artisan Pizza, Wood-Fired Artisan Pizza, Wood-Fired Artisan Pizza, "
     ]
    }
   ],
   "source": [
    "friend_pizzas = pizzas.copy()\n",
    "pizzas.append(\"Wood-Fired Artisan Pizza\")\n",
    "friend_pizzas.append(\"Deep Dish Pizza\")\n",
    "print(\"My favourite pizzas are: \",end=\" \")\n",
    "for pizza in pizzas:\n",
    "    print(pizza,end=\", \")\n",
    "print(\"\")\n",
    "print(\"My friend's favourite pizzas are:\",end=\" \")\n",
    "for pizza in pizzas:\n",
    "    print(pizza,end=\", \")"
   ]
  },
  {
   "cell_type": "markdown",
   "metadata": {},
   "source": [
    "4-12. More Loops: All versions of foods.py in this section have avoided using\n",
    "for loops when printing to save space. Choose a version of foods.py, and\n",
    "write two for loops to print each list of foods."
   ]
  },
  {
   "cell_type": "code",
   "execution_count": 31,
   "metadata": {},
   "outputs": [
    {
     "name": "stdout",
     "output_type": "stream",
     "text": [
      "My favourite foods are:\n",
      "pizza\n",
      "falafel\n",
      "carrot cake\n",
      "My friend's favourite foods are:\n",
      "pizza\n",
      "falafel\n",
      "carrot cake\n"
     ]
    }
   ],
   "source": [
    "my_foods = ['pizza', 'falafel', 'carrot cake']\n",
    "print(\"My favourite foods are:\")\n",
    "for food in my_foods:\n",
    "    print(food)\n",
    "print(\"My friend's favourite foods are:\")\n",
    "friend_foods = my_foods[:]\n",
    "for food in friend_foods:\n",
    "    print(food)"
   ]
  },
  {
   "cell_type": "markdown",
   "metadata": {},
   "source": [
    "4-13. Buffet: A buffet-style restaurant offers only five basic foods. Think of five\n",
    "simple foods, and store them in a tuple.  \n",
    "• Use a for loop to print each food the restaurant offers.  \n",
    "• Try to modify one of the items, and make sure that Python rejects the\n",
    "change.  \n",
    "• The restaurant changes its menu, replacing two of the items with different\n",
    "foods. Add a line that rewrites the tuple, and then use a for loop to print\n",
    "each of the items on the revised menu."
   ]
  },
  {
   "cell_type": "code",
   "execution_count": 32,
   "metadata": {},
   "outputs": [
    {
     "name": "stdout",
     "output_type": "stream",
     "text": [
      "Holloumi Fries\n",
      "Grazing Platter\n",
      "Coronation Chicken Scones\n",
      "Vegetarian Soucage Rolls\n",
      "Spiced ‘Chorizo’ Pastry Slices\n"
     ]
    }
   ],
   "source": [
    "buffet_foods = (\"Holloumi Fries\", \"Grazing Platter\", \"Coronation Chicken Scones\", \"Vegetarian Soucage Rolls\", \"Spiced ‘Chorizo’ Pastry Slices\")\n",
    "for food in buffet_foods:\n",
    "    print(food)"
   ]
  },
  {
   "cell_type": "code",
   "execution_count": 34,
   "metadata": {},
   "outputs": [
    {
     "ename": "TypeError",
     "evalue": "'tuple' object does not support item assignment",
     "output_type": "error",
     "traceback": [
      "\u001b[1;31m---------------------------------------------------------------------------\u001b[0m",
      "\u001b[1;31mTypeError\u001b[0m                                 Traceback (most recent call last)",
      "\u001b[1;32m<ipython-input-34-e04095a8fc2f>\u001b[0m in \u001b[0;36m<module>\u001b[1;34m\u001b[0m\n\u001b[1;32m----> 1\u001b[1;33m \u001b[0mbuffet_foods\u001b[0m\u001b[1;33m[\u001b[0m\u001b[1;36m1\u001b[0m\u001b[1;33m]\u001b[0m \u001b[1;33m=\u001b[0m \u001b[1;34m\"PBJ Bakewell tart\"\u001b[0m\u001b[1;33m\u001b[0m\u001b[1;33m\u001b[0m\u001b[0m\n\u001b[0m",
      "\u001b[1;31mTypeError\u001b[0m: 'tuple' object does not support item assignment"
     ]
    }
   ],
   "source": [
    "buffet_foods[1] = \"PBJ Bakewell tart\""
   ]
  },
  {
   "cell_type": "code",
   "execution_count": 2,
   "metadata": {},
   "outputs": [
    {
     "name": "stdout",
     "output_type": "stream",
     "text": [
      "Holloumi Fries\n",
      "Grazing Platter\n",
      "Coronation Chicken Scones\n",
      "Stilton, apple and walnut salad\n",
      "Mini Victoria sponges\n"
     ]
    }
   ],
   "source": [
    "buffet_foods = (\"Holloumi Fries\", \"Grazing Platter\", \"Coronation Chicken Scones\",\"Stilton, apple and walnut salad\",\"Mini Victoria sponges\")\n",
    "for food in buffet_foods:\n",
    "    print(food)"
   ]
  },
  {
   "cell_type": "markdown",
   "metadata": {},
   "source": [
    "4-14. PEP 8: Look through the original PEP 8 style guide at https://python.org/\n",
    "dev/peps/pep-0008/. You won’t use much of it now, but it might be interesting\n",
    "to skim through it."
   ]
  },
  {
   "cell_type": "code",
   "execution_count": null,
   "metadata": {},
   "outputs": [],
   "source": []
  }
 ],
 "metadata": {
  "kernelspec": {
   "display_name": "Python 3",
   "language": "python",
   "name": "python3"
  },
  "language_info": {
   "codemirror_mode": {
    "name": "ipython",
    "version": 3
   },
   "file_extension": ".py",
   "mimetype": "text/x-python",
   "name": "python",
   "nbconvert_exporter": "python",
   "pygments_lexer": "ipython3",
   "version": "3.7.6"
  }
 },
 "nbformat": 4,
 "nbformat_minor": 4
}
