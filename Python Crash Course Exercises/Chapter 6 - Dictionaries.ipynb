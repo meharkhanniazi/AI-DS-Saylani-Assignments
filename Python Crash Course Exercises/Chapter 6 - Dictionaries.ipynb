{
 "cells": [
  {
   "cell_type": "markdown",
   "metadata": {},
   "source": [
    "# Chapter 6 - Dictionaries"
   ]
  },
  {
   "cell_type": "markdown",
   "metadata": {},
   "source": [
    "# 6-1."
   ]
  },
  {
   "cell_type": "markdown",
   "metadata": {},
   "source": [
    "Person: Use a dictionary to store information about a person you know.\n",
    "Store their first name, last name, age, and the city in which they live. You\n",
    "should have keys such as first_name, last_name, age, and city. Print each\n",
    "piece of information stored in your dictionary."
   ]
  },
  {
   "cell_type": "code",
   "execution_count": 9,
   "metadata": {},
   "outputs": [
    {
     "name": "stdout",
     "output_type": "stream",
     "text": [
      "Muhammad\n",
      "Azhar\n",
      "20\n",
      "Karachi\n"
     ]
    }
   ],
   "source": [
    "person = {\"first_name\":\"Muhammad\",\"last_name\":\"Azhar\",\"age\":20,\"city\":\"Karachi\"}\n",
    "for value in person.values():\n",
    "    print(value)"
   ]
  },
  {
   "cell_type": "markdown",
   "metadata": {},
   "source": [
    "# 6-2."
   ]
  },
  {
   "cell_type": "markdown",
   "metadata": {},
   "source": [
    "Favorite Numbers: Use a dictionary to store people’s favorite numbers.\n",
    "Think of five names, and use them as keys in your dictionary. Think of a favorite\n",
    "number for each person, and store each as a value in your dictionary. Print\n",
    "each person’s name and their favorite number. For even more fun, poll a few\n",
    "friends and get some actual data for your program."
   ]
  },
  {
   "cell_type": "code",
   "execution_count": 10,
   "metadata": {},
   "outputs": [
    {
     "name": "stdout",
     "output_type": "stream",
     "text": [
      "Ali 54\n",
      "Kamran 22\n",
      "Afaq 85\n",
      "Abudl Rehman 34\n",
      "Saim 9\n"
     ]
    }
   ],
   "source": [
    "fav_numbers = {\"Ali\":54, \"Kamran\":22, \"Afaq\":85, \"Abudl Rehman\":34, \"Saim\":9}\n",
    "for key,value in fav_numbers.items():\n",
    "    print(key, value)"
   ]
  },
  {
   "cell_type": "markdown",
   "metadata": {},
   "source": [
    "# 6-3."
   ]
  },
  {
   "cell_type": "markdown",
   "metadata": {},
   "source": [
    "Glossary: A Python dictionary can be used to model an actual dictionary.\n",
    "However, to avoid confusion, let’s call it a glossary.  \n",
    "• Think of five programming words you’ve learned about in the previous\n",
    "chapters. Use these words as the keys in your glossary, and store their\n",
    "meanings as values.  \n",
    "• Print each word and its meaning as neatly formatted output. You might\n",
    "print the word followed by a colon and then its meaning, or print the word\n",
    "on one line and then print its meaning indented on a second line. Use the\n",
    "newline character (\\n) to insert a blank line between each word-meaning\n",
    "pair in your output."
   ]
  },
  {
   "cell_type": "code",
   "execution_count": 16,
   "metadata": {},
   "outputs": [
    {
     "name": "stdout",
     "output_type": "stream",
     "text": [
      "Variable \n",
      "\t Variables are containers for storing data values.\n",
      "Int \n",
      "\t The integer number type.\n",
      "Complex \n",
      "\t The complex number type.\n",
      "Float \n",
      "\t The floating number type.\n",
      "Operators \n",
      "\t Use operator to perform operations in Python.\n"
     ]
    }
   ],
   "source": [
    "glossary = {\n",
    "            \"Variable\":\"Variables are containers for storing data values.\",\n",
    "            \"Int\":\"The integer number type.\",\n",
    "            \"Complex\":\"The complex number type.\",\n",
    "            \"Float\":\"The floating number type.\",\n",
    "            \"Operators\":\"Use operator to perform operations in Python.\"\n",
    "            }\n",
    "\n",
    "for key, value in glossary.items():\n",
    "    print(key, \"\\n\\t\", value)"
   ]
  },
  {
   "cell_type": "markdown",
   "metadata": {},
   "source": [
    "# 6-4."
   ]
  },
  {
   "cell_type": "markdown",
   "metadata": {},
   "source": [
    "Glossary 2: Now that you know how to loop through a dictionary, clean\n",
    "up the code from Exercise 6-3 (page 99) by replacing your series of print()\n",
    "calls with a loop that runs through the dictionary’s keys and values. When\n",
    "you’re sure that your loop works, add five more Python terms to your glossary.\n",
    "When you run your program again, these new words and meanings should\n",
    "automatically be included in the output."
   ]
  },
  {
   "cell_type": "code",
   "execution_count": 17,
   "metadata": {},
   "outputs": [
    {
     "name": "stdout",
     "output_type": "stream",
     "text": [
      "Variable \n",
      "\t Variables are containers for storing data values.\n",
      "Int \n",
      "\t The integer number type.\n",
      "Complex \n",
      "\t The complex number type.\n",
      "Float \n",
      "\t The floating number type.\n",
      "Operators \n",
      "\t Use operator to perform operations in Python.\n"
     ]
    }
   ],
   "source": [
    "glossary = {\n",
    "            \"Variable\":\"Variables are containers for storing data values.\",\n",
    "            \"Int\":\"The integer number type.\",\n",
    "            \"Complex\":\"The complex number type.\",\n",
    "            \"Float\":\"The floating number type.\",\n",
    "            \"Operators\":\"Use operator to perform operations in Python.\"\n",
    "            }\n",
    "\n",
    "for key, value in glossary.items():\n",
    "    print(key, \"\\n\\t\", value)"
   ]
  },
  {
   "cell_type": "markdown",
   "metadata": {},
   "source": [
    "# 6-5."
   ]
  },
  {
   "cell_type": "markdown",
   "metadata": {},
   "source": [
    "Rivers: Make a dictionary containing three major rivers and the country\n",
    "each river runs through. One key-value pair might be 'nile': 'egypt'.  \n",
    "• Use a loop to print a sentence about each river, such as The Nile runs\n",
    "through Egypt.  \n",
    "• Use a loop to print the name of each river included in the dictionary.  \n",
    "• Use a loop to print the name of each country included in the dictionary."
   ]
  },
  {
   "cell_type": "code",
   "execution_count": 18,
   "metadata": {},
   "outputs": [
    {
     "name": "stdout",
     "output_type": "stream",
     "text": [
      "Amazon runs through Brazil.\n",
      "Nile runs through Egypt.\n",
      "River Indus runs through Pakistan.\n"
     ]
    }
   ],
   "source": [
    "rivers = {\"Amazon\":\"Brazil\", \"Nile\":\"Egypt\", \"River Indus\":\"Pakistan\"}\n",
    "for key, value in rivers.items():\n",
    "    print(\"{} runs through {}.\".format(key, value))"
   ]
  },
  {
   "cell_type": "code",
   "execution_count": 19,
   "metadata": {},
   "outputs": [
    {
     "name": "stdout",
     "output_type": "stream",
     "text": [
      "Amazon\n",
      "Nile\n",
      "River Indus\n"
     ]
    }
   ],
   "source": [
    "for key in rivers.keys():\n",
    "    print(key)"
   ]
  },
  {
   "cell_type": "code",
   "execution_count": 20,
   "metadata": {},
   "outputs": [
    {
     "name": "stdout",
     "output_type": "stream",
     "text": [
      "Brazil\n",
      "Egypt\n",
      "Pakistan\n"
     ]
    }
   ],
   "source": [
    "for value in rivers.values():\n",
    "    print(value)"
   ]
  },
  {
   "cell_type": "markdown",
   "metadata": {},
   "source": [
    "# 6-6."
   ]
  },
  {
   "cell_type": "markdown",
   "metadata": {},
   "source": [
    "Polling: Use the code in favorite_languages.py (page 97).  \n",
    "• Make a list of people who should take the favorite languages poll. Include\n",
    "some names that are already in the dictionary and some that are not.  \n",
    "• Loop through the list of people who should take the poll. If they have\n",
    "already taken the poll, print a message thanking them for responding.\n",
    "If they have not yet taken the poll, print a message inviting them to take\n",
    "the poll."
   ]
  },
  {
   "cell_type": "code",
   "execution_count": 21,
   "metadata": {},
   "outputs": [],
   "source": [
    "favorite_languages = {\n",
    "'jen': 'python',\n",
    "'sarah': 'c',\n",
    "'edward': 'ruby',\n",
    "'phil': 'python',\n",
    "}"
   ]
  },
  {
   "cell_type": "code",
   "execution_count": 26,
   "metadata": {},
   "outputs": [],
   "source": [
    "people = [\"jen\", \"Ahmed\", \"phil\", \"A. Rehman\", \"Khan\"]"
   ]
  },
  {
   "cell_type": "code",
   "execution_count": 27,
   "metadata": {},
   "outputs": [
    {
     "name": "stdout",
     "output_type": "stream",
     "text": [
      "Thank you for responding!\n",
      "Hey Ahmed, you are invited to take the poll.\n",
      "Thank you for responding!\n",
      "Hey A. Rehman, you are invited to take the poll.\n",
      "Hey Khan, you are invited to take the poll.\n"
     ]
    }
   ],
   "source": [
    "responds = 0\n",
    "for pupil in people:\n",
    "    for key in favorite_languages.keys():\n",
    "        if pupil == key:\n",
    "            responds += 1\n",
    "    if responds:\n",
    "        print(\"Thank you for responding!\")\n",
    "    else:\n",
    "        print(\"Hey {}, you are invited to take the poll.\".format(pupil))\n",
    "    responds = 0\n",
    "        "
   ]
  },
  {
   "cell_type": "markdown",
   "metadata": {},
   "source": [
    "# 6-7."
   ]
  },
  {
   "cell_type": "markdown",
   "metadata": {},
   "source": [
    "People: Start with the program you wrote for Exercise 6-1 (page 99).\n",
    "Make two new dictionaries representing different people, and store all three\n",
    "dictionaries in a list called people. Loop through your list of people. As you\n",
    "loop through the list, print everything you know about each person."
   ]
  },
  {
   "cell_type": "code",
   "execution_count": 29,
   "metadata": {},
   "outputs": [],
   "source": [
    "people = [\n",
    "    {\"first_name\":\"Muhammad\",\"last_name\":\"Azhar\",\"age\":20,\"city\":\"Karachi\"},\n",
    "    {\"first_name\":\"Shakeel\",\"last_name\":\"Ahmed\",\"age\":25,\"city\":\"Lahore\"},\n",
    "    {\"first_name\":\"Abdul\",\"last_name\":\"Rehman\",\"age\":15,\"city\":\"Islamabad\"}\n",
    "        ]"
   ]
  },
  {
   "cell_type": "code",
   "execution_count": 31,
   "metadata": {},
   "outputs": [
    {
     "name": "stdout",
     "output_type": "stream",
     "text": [
      "---------------------\n",
      "first_name : Muhammad\n",
      "last_name : Azhar\n",
      "age : 20\n",
      "city : Karachi\n",
      "---------------------\n",
      "---------------------\n",
      "first_name : Shakeel\n",
      "last_name : Ahmed\n",
      "age : 25\n",
      "city : Lahore\n",
      "---------------------\n",
      "---------------------\n",
      "first_name : Abdul\n",
      "last_name : Rehman\n",
      "age : 15\n",
      "city : Islamabad\n",
      "---------------------\n"
     ]
    }
   ],
   "source": [
    "for person in people:\n",
    "    print(\"---------------------\")\n",
    "    for key, value in person.items():\n",
    "        print(f\"{key} : {value}\")\n",
    "    print(\"---------------------\")"
   ]
  },
  {
   "cell_type": "markdown",
   "metadata": {},
   "source": [
    "# 6-8."
   ]
  },
  {
   "cell_type": "markdown",
   "metadata": {},
   "source": [
    "Pets: Make several dictionaries, where each dictionary represents a different\n",
    "pet. In each dictionary, include the kind of animal and the owner’s name.\n",
    "Store these dictionaries in a list called pets. Next, loop through your list and as\n",
    "you do, print everything you know about each pet."
   ]
  },
  {
   "cell_type": "code",
   "execution_count": 32,
   "metadata": {},
   "outputs": [],
   "source": [
    "pets = [\n",
    "        {\"Cat\":\"Ahmed Ali\"},\n",
    "        {\"Dog\":\"Saqib Khan\"},\n",
    "        {\"Birds\":\"Uzair Khan\"},\n",
    "        {\"Rabbits\":\"Umair Khan\"},\n",
    "        {\"Fish\":\"Abdullah\"}\n",
    "        ]"
   ]
  },
  {
   "cell_type": "code",
   "execution_count": 33,
   "metadata": {},
   "outputs": [
    {
     "name": "stdout",
     "output_type": "stream",
     "text": [
      "Kind of Pet 'Cat'   Owner's Name 'Ahmed Ali' \n",
      "Kind of Pet 'Dog'   Owner's Name 'Saqib Khan' \n",
      "Kind of Pet 'Birds'   Owner's Name 'Uzair Khan' \n",
      "Kind of Pet 'Rabbits'   Owner's Name 'Umair Khan' \n",
      "Kind of Pet 'Fish'   Owner's Name 'Abdullah' \n"
     ]
    }
   ],
   "source": [
    "for pet in pets:\n",
    "    for key, value in pet.items():\n",
    "        print(f\"Kind of Pet '{key}'   Owner's Name '{value}' \")"
   ]
  },
  {
   "cell_type": "markdown",
   "metadata": {},
   "source": [
    "# 6-9."
   ]
  },
  {
   "cell_type": "markdown",
   "metadata": {},
   "source": [
    "Favorite Places: Make a dictionary called favorite_places. Think of three\n",
    "names to use as keys in the dictionary, and store one to three favorite places\n",
    "for each person. To make this exercise a bit more interesting, ask some friends\n",
    "to name a few of their favorite places. Loop through the dictionary, and print\n",
    "each person’s name and their favorite places."
   ]
  },
  {
   "cell_type": "code",
   "execution_count": 34,
   "metadata": {},
   "outputs": [],
   "source": [
    "favorite_places = {\"Ali Ahmed\":[\"Islamabad\",\"Nathia Gali\",\"Gilgit\"], \"Abdul Razzaq\":[\"Chitral\",\"Wazeeristan\",\"Azad Kashmir\"], \"Kamran Ahmed\":[\"Swat\",\"Kaghan\",\"Lahore\"]}"
   ]
  },
  {
   "cell_type": "code",
   "execution_count": 43,
   "metadata": {},
   "outputs": [
    {
     "name": "stdout",
     "output_type": "stream",
     "text": [
      "Name : Ali Ahmed\n",
      "\tFavourite Places are  Islamabad, Nathia Gali, Gilgit, \n",
      "Name : Abdul Razzaq\n",
      "\tFavourite Places are  Chitral, Wazeeristan, Azad Kashmir, \n",
      "Name : Kamran Ahmed\n",
      "\tFavourite Places are  Swat, Kaghan, Lahore, \n"
     ]
    }
   ],
   "source": [
    "for key, value in favorite_places.items():\n",
    "    print(\"Name : {}\".format(key))\n",
    "    print(\"\\tFavourite Places are \",end=\" \")\n",
    "    for place in value:\n",
    "        print(place, end=\", \")\n",
    "    print()"
   ]
  },
  {
   "cell_type": "markdown",
   "metadata": {},
   "source": [
    "# 6-10."
   ]
  },
  {
   "cell_type": "markdown",
   "metadata": {},
   "source": [
    "Favorite Numbers: Modify your program from Exercise 6-2 (page 99)\n",
    "so each person can have more than one favorite number. Then print each person’s\n",
    "name along with their favorite numbers."
   ]
  },
  {
   "cell_type": "code",
   "execution_count": 44,
   "metadata": {},
   "outputs": [],
   "source": [
    "fav_numbers = {\"Ali\":[54,65,44], \"Kamran\":[22,87,99], \"Afaq\":[85,41,12], \"Abudl Rehman\":[34,32,78], \"Saim\":[98,29,46]}"
   ]
  },
  {
   "cell_type": "code",
   "execution_count": 45,
   "metadata": {},
   "outputs": [
    {
     "name": "stdout",
     "output_type": "stream",
     "text": [
      "Name : Ali\n",
      "\tFavourite Numbers are  54, 65, 44, \n",
      "Name : Kamran\n",
      "\tFavourite Numbers are  22, 87, 99, \n",
      "Name : Afaq\n",
      "\tFavourite Numbers are  85, 41, 12, \n",
      "Name : Abudl Rehman\n",
      "\tFavourite Numbers are  34, 32, 78, \n",
      "Name : Saim\n",
      "\tFavourite Numbers are  98, 29, 46, \n"
     ]
    }
   ],
   "source": [
    "for key, value in fav_numbers.items():\n",
    "    print(\"Name : {}\".format(key))\n",
    "    print(\"\\tFavourite Numbers are \",end=\" \")\n",
    "    for number in value:\n",
    "        print(number, end=\", \")\n",
    "    print()"
   ]
  },
  {
   "cell_type": "markdown",
   "metadata": {},
   "source": [
    "# 6-11."
   ]
  },
  {
   "cell_type": "markdown",
   "metadata": {},
   "source": [
    "Cities: Make a dictionary called cities. Use the names of three cities as\n",
    "keys in your dictionary. Create a dictionary of information about each city and\n",
    "include the country that the city is in, its approximate population, and one fact\n",
    "about that city. The keys for each city’s dictionary should be something like\n",
    "country, population, and fact. Print the name of each city and all of the information\n",
    "you have stored about it."
   ]
  },
  {
   "cell_type": "code",
   "execution_count": 46,
   "metadata": {},
   "outputs": [],
   "source": [
    "cities = {\n",
    "    \"Karachi\":{\"Country\":\"Pakistan\", \"Population\":15741000, \"Fact\":\"Karachi generates the largest share of Pakistan's GDP and national revenue.\"}, \n",
    "    \"Istanbul\":{\"Country\":\"Turkey\", \"Population\":15519267, \"Fact\":\"Istanbul is home to the most mosques in Turkey.\"}, \n",
    "    \"Tehran\":{\"Country\":\"Iran\", \"Population\":9259009, \"Fact\":\"Tehran is the largest city in the Middle East & Western Asia.\"}\n",
    "            }"
   ]
  },
  {
   "cell_type": "code",
   "execution_count": 48,
   "metadata": {},
   "outputs": [
    {
     "name": "stdout",
     "output_type": "stream",
     "text": [
      "----------------------\n",
      "City Name: Karachi\n",
      "Country:Pakistan\n",
      "Population:15741000\n",
      "Fact:Karachi generates the largest share of Pakistan's GDP and national revenue.\n",
      "----------------------\n",
      "----------------------\n",
      "City Name: Istanbul\n",
      "Country:Turkey\n",
      "Population:15519267\n",
      "Fact:Istanbul is home to the most mosques in Turkey.\n",
      "----------------------\n",
      "----------------------\n",
      "City Name: Tehran\n",
      "Country:Iran\n",
      "Population:9259009\n",
      "Fact:Tehran is the largest city in the Middle East & Western Asia.\n",
      "----------------------\n"
     ]
    }
   ],
   "source": [
    "for key,value in cities.items():\n",
    "    print(\"----------------------\")\n",
    "    print(\"City Name: {}\".format(key))\n",
    "    for cityKey, cityValue in value.items():\n",
    "        print(f\"{cityKey}:{cityValue}\")\n",
    "    print(\"----------------------\")"
   ]
  },
  {
   "cell_type": "markdown",
   "metadata": {},
   "source": [
    "# 6-12."
   ]
  },
  {
   "cell_type": "markdown",
   "metadata": {},
   "source": [
    "Extensions: We’re now working with examples that are complex enough\n",
    "that they can be extended in any number of ways. Use one of the example programs\n",
    "from this chapter, and extend it by adding new keys and values, changing\n",
    "the context of the program or improving the formatting of the output."
   ]
  },
  {
   "cell_type": "code",
   "execution_count": 49,
   "metadata": {},
   "outputs": [],
   "source": [
    "#Done"
   ]
  },
  {
   "cell_type": "code",
   "execution_count": null,
   "metadata": {},
   "outputs": [],
   "source": []
  }
 ],
 "metadata": {
  "kernelspec": {
   "display_name": "Python 3",
   "language": "python",
   "name": "python3"
  },
  "language_info": {
   "codemirror_mode": {
    "name": "ipython",
    "version": 3
   },
   "file_extension": ".py",
   "mimetype": "text/x-python",
   "name": "python",
   "nbconvert_exporter": "python",
   "pygments_lexer": "ipython3",
   "version": "3.7.6"
  }
 },
 "nbformat": 4,
 "nbformat_minor": 4
}
